{
 "cells": [
  {
   "cell_type": "markdown",
   "metadata": {},
   "source": [
    "# WeatherPy\n",
    "----\n",
    "\n",
    "#### Note\n",
    "* Instructions have been included for each segment. You do not have to follow them exactly, but they are included to help you think through the steps."
   ]
  },
  {
   "cell_type": "code",
   "execution_count": 1,
   "metadata": {
    "scrolled": true
   },
   "outputs": [],
   "source": [
    "# Dependencies and Setup\n",
    "import matplotlib.pyplot as plt\n",
    "import pandas as pd\n",
    "import numpy as np\n",
    "import requests\n",
    "import time\n",
    "from datetime import datetime \n",
    "from scipy.stats import linregress\n",
    "\n",
    "# Import API key\n",
    "from api_keys import weather_api_key\n",
    "# Incorporated citipy to determine city based on latitude and longitude\n",
    "from citipy import citipy\n",
    "\n",
    "# Output File (CSV)\n",
    "output_data_file = \"output_data/cities.csv\"\n",
    "\n",
    "# Range of latitudes and longitudes\n",
    "lat_range = (-90, 90)\n",
    "lng_range = (-180, 180)"
   ]
  },
  {
   "cell_type": "markdown",
   "metadata": {},
   "source": [
    "## Generate Cities List"
   ]
  },
  {
   "cell_type": "code",
   "execution_count": 2,
   "metadata": {},
   "outputs": [
    {
     "data": {
      "text/plain": [
       "613"
      ]
     },
     "execution_count": 2,
     "metadata": {},
     "output_type": "execute_result"
    }
   ],
   "source": [
    "# List for holding lat_lngs and cities\n",
    "lat_lngs = []\n",
    "cities = []\n",
    "\n",
    "# Create a set of random lat and lng combinations\n",
    "lats = np.random.uniform(lat_range[0], lat_range[1], size=1500)\n",
    "lngs = np.random.uniform(lng_range[0], lng_range[1], size=1500)\n",
    "lat_lngs = zip(lats, lngs)\n",
    "\n",
    "# Identify nearest city for each lat, lng combination\n",
    "for lat_lng in lat_lngs:\n",
    "    city = citipy.nearest_city(lat_lng[0], lat_lng[1]).city_name\n",
    "    \n",
    "    # If the city is unique, then add it to a our cities list\n",
    "    if city not in cities:\n",
    "        cities.append(city)\n",
    "\n",
    "# Print the city count to confirm sufficient count\n",
    "Number_of_cities = len(cities)\n",
    "Number_of_cities"
   ]
  },
  {
   "cell_type": "markdown",
   "metadata": {},
   "source": [
    "### Perform API Calls\n",
    "* Perform a weather check on each city using a series of successive API calls.\n",
    "* Include a print log of each city as it'sbeing processed (with the city number and city name).\n"
   ]
  },
  {
   "cell_type": "code",
   "execution_count": 65,
   "metadata": {
    "scrolled": true
   },
   "outputs": [
    {
     "name": "stdout",
     "output_type": "stream",
     "text": [
      "Processing Record 1 of 613 |City number: 4944903, City name: Nantucket\n",
      "Processing Record 2 of 613 |City number: 86049, City name: Jalu\n",
      "Processing Record 3 of 613 |City number: 986717, City name: Kruisfontein\n",
      "Processing Record 4 of 613 |City number: 6185377, City name: Yellowknife\n",
      "Processing Record 5 of 613 |City number: 4030556, City name: Rikitea\n",
      "Processing Record 6 of 613 |City number: 1734798, City name: Semenyih\n",
      "Processing Record 7 of 613 |City number: 6201424, City name: Mataura\n",
      "Processing Record 8 of 613 |City number: 3833367, City name: Ushuaia\n",
      "Processing Record 9 of 613 |City number: 2020591, City name: Magdagachi\n",
      "Processing Record 10 of 613 |City number: 4017152, City name: Benjamín Hill\n"
     ]
    }
   ],
   "source": [
    "#City\tLat\tLng\tMax Temp\tHumidity\tCloudiness\tWind Speed\tCountry\tDate\n",
    "#city_results = []\n",
    "#Index_cities=[]\n",
    "\n",
    "City_Number = []\n",
    "City_Name = []\n",
    "City_Lat = []\n",
    "City_Lng = []\n",
    "City_MaxTemp = []\n",
    "City_Humidity = []\n",
    "City_Cloudiness = []\n",
    "City_WindSpeed = []\n",
    "City_Country = []\n",
    "City_Date = []\n",
    "Count_Record = 0\n",
    "#for city in cities:   \n",
    "\n",
    "#weather_api_key= \"a160fd00bbc7c7caddb54e2757ff85b2\"\n",
    "#city_ejempo=['London','Melbourne','Alaska','Jazan','Caracas','Harare','El Junquito','New Orleans',\"GTY77\",\"Maracay\",\"Washington\", \"Pensilvanya\", \"Palita\", \"guarenas\", \"Atlanta\", \"Bogota\"]\n",
    "\n",
    "for city in cities[:10]:\n",
    "    url = f\"http://api.openweathermap.org/data/2.5/weather?q={city}&appid={weather_api_key}&units=imperial\"\n",
    "    #print(url) \n",
    "    Req_weather_city = requests.get(url).json()\n",
    "    if (Req_weather_city[\"cod\"]==200):\n",
    "        Count_Record = Count_Record + 1\n",
    "        City_Number.append(Req_weather_city['id'])\n",
    "        City_Name.append(Req_weather_city['name'])\n",
    "        City_Lat.append(Req_weather_city['coord']['lat'])\n",
    "        City_Lng.append(Req_weather_city['coord']['lon'])\n",
    "        City_MaxTemp.append(Req_weather_city['main']['temp'])\n",
    "        City_Humidity.append(Req_weather_city['main']['humidity'])\n",
    "        City_Cloudiness.append(Req_weather_city['clouds']['all'])\n",
    "        City_WindSpeed.append(Req_weather_city['wind']['speed'])\n",
    "        City_Country.append(Req_weather_city['sys']['country'])\n",
    "        City_Date.append(Req_weather_city['dt'])\n",
    "        print(f\"Processing Record {Count_Record} of {Number_of_cities} |City number: {Req_weather_city['id']}, City name: {Req_weather_city['name']}\")\n",
    "    else: \n",
    "        #{\"cod\":\"404\",\"message\":\"city not found\"}\n",
    "        print(f\"{city}: {Req_weather_city['message']}. Skipping...\")\n",
    "\n",
    "weather_dict = {\n",
    "    \"City\": City_Name,\n",
    "    \"Lat\": City_Lat,\n",
    "    \"Lng\":City_Lng,\n",
    "    \"Temp\": City_MaxTemp,\n",
    "    \"Humidity\":City_Humidity,\n",
    "    \"Cloudiness\":City_Cloudiness,\n",
    "    \"Wind Speed\":City_WindSpeed,\n",
    "    \"Country\":City_Country,\n",
    "    \"Date\":City_Date \n",
    "}\n",
    "meteorology_cities = pd.DataFrame(weather_dict)\n"
   ]
  },
  {
   "cell_type": "markdown",
   "metadata": {},
   "source": [
    "### Convert Raw Data to DataFrame\n",
    "* Export the city data into a .csv.\n",
    "* Display the DataFrame"
   ]
  },
  {
   "cell_type": "code",
   "execution_count": 66,
   "metadata": {},
   "outputs": [
    {
     "data": {
      "text/html": [
       "<div>\n",
       "<style scoped>\n",
       "    .dataframe tbody tr th:only-of-type {\n",
       "        vertical-align: middle;\n",
       "    }\n",
       "\n",
       "    .dataframe tbody tr th {\n",
       "        vertical-align: top;\n",
       "    }\n",
       "\n",
       "    .dataframe thead th {\n",
       "        text-align: right;\n",
       "    }\n",
       "</style>\n",
       "<table border=\"1\" class=\"dataframe\">\n",
       "  <thead>\n",
       "    <tr style=\"text-align: right;\">\n",
       "      <th></th>\n",
       "      <th>City</th>\n",
       "      <th>Lat</th>\n",
       "      <th>Lng</th>\n",
       "      <th>Temp</th>\n",
       "      <th>Humidity</th>\n",
       "      <th>Cloudiness</th>\n",
       "      <th>Wind Speed</th>\n",
       "      <th>Country</th>\n",
       "      <th>Date</th>\n",
       "    </tr>\n",
       "  </thead>\n",
       "  <tbody>\n",
       "    <tr>\n",
       "      <th>0</th>\n",
       "      <td>Nantucket</td>\n",
       "      <td>41.2835</td>\n",
       "      <td>-70.0995</td>\n",
       "      <td>42.89</td>\n",
       "      <td>56</td>\n",
       "      <td>1</td>\n",
       "      <td>23.02</td>\n",
       "      <td>US</td>\n",
       "      <td>02/06/2021</td>\n",
       "    </tr>\n",
       "    <tr>\n",
       "      <th>1</th>\n",
       "      <td>Jalu</td>\n",
       "      <td>29.0331</td>\n",
       "      <td>21.5482</td>\n",
       "      <td>63.28</td>\n",
       "      <td>35</td>\n",
       "      <td>0</td>\n",
       "      <td>8.52</td>\n",
       "      <td>LY</td>\n",
       "      <td>02/06/2021</td>\n",
       "    </tr>\n",
       "    <tr>\n",
       "      <th>2</th>\n",
       "      <td>Kruisfontein</td>\n",
       "      <td>-34.0033</td>\n",
       "      <td>24.7314</td>\n",
       "      <td>68.00</td>\n",
       "      <td>86</td>\n",
       "      <td>0</td>\n",
       "      <td>3.00</td>\n",
       "      <td>ZA</td>\n",
       "      <td>02/06/2021</td>\n",
       "    </tr>\n",
       "    <tr>\n",
       "      <th>3</th>\n",
       "      <td>Yellowknife</td>\n",
       "      <td>62.4560</td>\n",
       "      <td>-114.3525</td>\n",
       "      <td>-37.70</td>\n",
       "      <td>67</td>\n",
       "      <td>1</td>\n",
       "      <td>3.44</td>\n",
       "      <td>CA</td>\n",
       "      <td>02/06/2021</td>\n",
       "    </tr>\n",
       "    <tr>\n",
       "      <th>4</th>\n",
       "      <td>Rikitea</td>\n",
       "      <td>-23.1203</td>\n",
       "      <td>-134.9692</td>\n",
       "      <td>77.72</td>\n",
       "      <td>73</td>\n",
       "      <td>100</td>\n",
       "      <td>11.63</td>\n",
       "      <td>PF</td>\n",
       "      <td>02/06/2021</td>\n",
       "    </tr>\n",
       "    <tr>\n",
       "      <th>5</th>\n",
       "      <td>Semenyih</td>\n",
       "      <td>2.9516</td>\n",
       "      <td>101.8430</td>\n",
       "      <td>79.14</td>\n",
       "      <td>69</td>\n",
       "      <td>20</td>\n",
       "      <td>8.05</td>\n",
       "      <td>MY</td>\n",
       "      <td>02/06/2021</td>\n",
       "    </tr>\n",
       "    <tr>\n",
       "      <th>6</th>\n",
       "      <td>Mataura</td>\n",
       "      <td>-46.1927</td>\n",
       "      <td>168.8643</td>\n",
       "      <td>52.38</td>\n",
       "      <td>90</td>\n",
       "      <td>5</td>\n",
       "      <td>1.79</td>\n",
       "      <td>NZ</td>\n",
       "      <td>02/06/2021</td>\n",
       "    </tr>\n",
       "    <tr>\n",
       "      <th>7</th>\n",
       "      <td>Ushuaia</td>\n",
       "      <td>-54.8000</td>\n",
       "      <td>-68.3000</td>\n",
       "      <td>55.40</td>\n",
       "      <td>67</td>\n",
       "      <td>20</td>\n",
       "      <td>21.85</td>\n",
       "      <td>AR</td>\n",
       "      <td>02/06/2021</td>\n",
       "    </tr>\n",
       "    <tr>\n",
       "      <th>8</th>\n",
       "      <td>Magdagachi</td>\n",
       "      <td>53.4500</td>\n",
       "      <td>125.8000</td>\n",
       "      <td>-19.03</td>\n",
       "      <td>84</td>\n",
       "      <td>0</td>\n",
       "      <td>3.94</td>\n",
       "      <td>RU</td>\n",
       "      <td>02/06/2021</td>\n",
       "    </tr>\n",
       "    <tr>\n",
       "      <th>9</th>\n",
       "      <td>Benjamín Hill</td>\n",
       "      <td>30.1667</td>\n",
       "      <td>-111.1000</td>\n",
       "      <td>72.50</td>\n",
       "      <td>17</td>\n",
       "      <td>0</td>\n",
       "      <td>4.00</td>\n",
       "      <td>MX</td>\n",
       "      <td>02/06/2021</td>\n",
       "    </tr>\n",
       "  </tbody>\n",
       "</table>\n",
       "</div>"
      ],
      "text/plain": [
       "            City      Lat       Lng   Temp  Humidity  Cloudiness  Wind Speed  \\\n",
       "0      Nantucket  41.2835  -70.0995  42.89        56           1       23.02   \n",
       "1           Jalu  29.0331   21.5482  63.28        35           0        8.52   \n",
       "2   Kruisfontein -34.0033   24.7314  68.00        86           0        3.00   \n",
       "3    Yellowknife  62.4560 -114.3525 -37.70        67           1        3.44   \n",
       "4        Rikitea -23.1203 -134.9692  77.72        73         100       11.63   \n",
       "5       Semenyih   2.9516  101.8430  79.14        69          20        8.05   \n",
       "6        Mataura -46.1927  168.8643  52.38        90           5        1.79   \n",
       "7        Ushuaia -54.8000  -68.3000  55.40        67          20       21.85   \n",
       "8     Magdagachi  53.4500  125.8000 -19.03        84           0        3.94   \n",
       "9  Benjamín Hill  30.1667 -111.1000  72.50        17           0        4.00   \n",
       "\n",
       "  Country        Date  \n",
       "0      US  02/06/2021  \n",
       "1      LY  02/06/2021  \n",
       "2      ZA  02/06/2021  \n",
       "3      CA  02/06/2021  \n",
       "4      PF  02/06/2021  \n",
       "5      MY  02/06/2021  \n",
       "6      NZ  02/06/2021  \n",
       "7      AR  02/06/2021  \n",
       "8      RU  02/06/2021  \n",
       "9      MX  02/06/2021  "
      ]
     },
     "execution_count": 66,
     "metadata": {},
     "output_type": "execute_result"
    }
   ],
   "source": [
    "# Export the city data into a .csv.\n",
    "meteorology_cities.to_csv(\"output_data/meteorology_of_cities.csv\", index=False, header=True)\n",
    "# Display the DataFrame\n",
    "for date_ in meteorology_cities['Date']:\n",
    "    meteorology_cities['Date'] = datetime.fromtimestamp(date_).strftime('%m/%d/%Y')\n",
    "meteorology_cities"
   ]
  },
  {
   "cell_type": "markdown",
   "metadata": {},
   "source": [
    "## Inspect the data and remove the cities where the humidity > 100%.\n",
    "----\n",
    "Skip this step if there are no cities that have humidity > 100%. "
   ]
  },
  {
   "cell_type": "code",
   "execution_count": 67,
   "metadata": {},
   "outputs": [
    {
     "data": {
      "text/html": [
       "<div>\n",
       "<style scoped>\n",
       "    .dataframe tbody tr th:only-of-type {\n",
       "        vertical-align: middle;\n",
       "    }\n",
       "\n",
       "    .dataframe tbody tr th {\n",
       "        vertical-align: top;\n",
       "    }\n",
       "\n",
       "    .dataframe thead th {\n",
       "        text-align: right;\n",
       "    }\n",
       "</style>\n",
       "<table border=\"1\" class=\"dataframe\">\n",
       "  <thead>\n",
       "    <tr style=\"text-align: right;\">\n",
       "      <th></th>\n",
       "      <th>Lat</th>\n",
       "      <th>Lng</th>\n",
       "      <th>Temp</th>\n",
       "      <th>Humidity</th>\n",
       "      <th>Cloudiness</th>\n",
       "      <th>Wind Speed</th>\n",
       "    </tr>\n",
       "  </thead>\n",
       "  <tbody>\n",
       "    <tr>\n",
       "      <th>count</th>\n",
       "      <td>10.000000</td>\n",
       "      <td>10.000000</td>\n",
       "      <td>10.000000</td>\n",
       "      <td>10.000000</td>\n",
       "      <td>10.00000</td>\n",
       "      <td>10.000000</td>\n",
       "    </tr>\n",
       "    <tr>\n",
       "      <th>mean</th>\n",
       "      <td>6.122460</td>\n",
       "      <td>-5.603430</td>\n",
       "      <td>45.458000</td>\n",
       "      <td>64.400000</td>\n",
       "      <td>14.70000</td>\n",
       "      <td>8.924000</td>\n",
       "    </tr>\n",
       "    <tr>\n",
       "      <th>std</th>\n",
       "      <td>43.045683</td>\n",
       "      <td>109.893883</td>\n",
       "      <td>40.769891</td>\n",
       "      <td>23.085349</td>\n",
       "      <td>31.03063</td>\n",
       "      <td>7.740056</td>\n",
       "    </tr>\n",
       "    <tr>\n",
       "      <th>min</th>\n",
       "      <td>-54.800000</td>\n",
       "      <td>-134.969200</td>\n",
       "      <td>-37.700000</td>\n",
       "      <td>17.000000</td>\n",
       "      <td>0.00000</td>\n",
       "      <td>1.790000</td>\n",
       "    </tr>\n",
       "    <tr>\n",
       "      <th>25%</th>\n",
       "      <td>-31.282550</td>\n",
       "      <td>-100.849875</td>\n",
       "      <td>45.262500</td>\n",
       "      <td>58.750000</td>\n",
       "      <td>0.00000</td>\n",
       "      <td>3.565000</td>\n",
       "    </tr>\n",
       "    <tr>\n",
       "      <th>50%</th>\n",
       "      <td>15.992350</td>\n",
       "      <td>-23.375900</td>\n",
       "      <td>59.340000</td>\n",
       "      <td>68.000000</td>\n",
       "      <td>1.00000</td>\n",
       "      <td>6.025000</td>\n",
       "    </tr>\n",
       "    <tr>\n",
       "      <th>75%</th>\n",
       "      <td>38.504300</td>\n",
       "      <td>82.565100</td>\n",
       "      <td>71.375000</td>\n",
       "      <td>81.250000</td>\n",
       "      <td>16.25000</td>\n",
       "      <td>10.852500</td>\n",
       "    </tr>\n",
       "    <tr>\n",
       "      <th>max</th>\n",
       "      <td>62.456000</td>\n",
       "      <td>168.864300</td>\n",
       "      <td>79.140000</td>\n",
       "      <td>90.000000</td>\n",
       "      <td>100.00000</td>\n",
       "      <td>23.020000</td>\n",
       "    </tr>\n",
       "  </tbody>\n",
       "</table>\n",
       "</div>"
      ],
      "text/plain": [
       "             Lat         Lng       Temp   Humidity  Cloudiness  Wind Speed\n",
       "count  10.000000   10.000000  10.000000  10.000000    10.00000   10.000000\n",
       "mean    6.122460   -5.603430  45.458000  64.400000    14.70000    8.924000\n",
       "std    43.045683  109.893883  40.769891  23.085349    31.03063    7.740056\n",
       "min   -54.800000 -134.969200 -37.700000  17.000000     0.00000    1.790000\n",
       "25%   -31.282550 -100.849875  45.262500  58.750000     0.00000    3.565000\n",
       "50%    15.992350  -23.375900  59.340000  68.000000     1.00000    6.025000\n",
       "75%    38.504300   82.565100  71.375000  81.250000    16.25000   10.852500\n",
       "max    62.456000  168.864300  79.140000  90.000000   100.00000   23.020000"
      ]
     },
     "execution_count": 67,
     "metadata": {},
     "output_type": "execute_result"
    }
   ],
   "source": [
    "Weather_cities_statistic = meteorology_cities.describe(percentiles=None, include=None, exclude=None, datetime_is_numeric=False)\n",
    "Weather_cities_statistic"
   ]
  },
  {
   "cell_type": "code",
   "execution_count": 68,
   "metadata": {},
   "outputs": [
    {
     "name": "stdout",
     "output_type": "stream",
     "text": [
      "Skip this step if there are no cities that have humidity > 100%.\n",
      "Int64Index([], dtype='int64')\n"
     ]
    }
   ],
   "source": [
    "#  Get the indices of cities that have humidity over 100%\n",
    "#city_Hum100 =  meteorology_cities.index[meteorology_cities['Humidity'] > 100 ].tolist()\n",
    "city_Hum100 = meteorology_cities[(meteorology_cities['Humidity'] > 100)]\n",
    "if len(city_Hum100) == 0:\n",
    "    clean_city_data = meteorology_cities.copy()\n",
    "    print(f\"Skip this step if there are no cities that have humidity > 100%.\")\n",
    "    print(city_Hum100.index)\n",
    "else:\n",
    "    clean_city_data = meteorology_cities[(meteorology_cities['Humidity'] < 100)]\n",
    "    clean_city_data_statistic = clean_city_data.describe(percentiles=None, include=None, exclude=None, datetime_is_numeric=False)\n",
    "    print(f\"Indices of cities that have humidity over 100%.: {city_Hum100.index}\")\n",
    "    print(f\"=========================================================================\")\n",
    "    print(f\"{clean_city_data_statistic}\")"
   ]
  },
  {
   "cell_type": "code",
   "execution_count": 69,
   "metadata": {},
   "outputs": [
    {
     "data": {
      "text/html": [
       "<div>\n",
       "<style scoped>\n",
       "    .dataframe tbody tr th:only-of-type {\n",
       "        vertical-align: middle;\n",
       "    }\n",
       "\n",
       "    .dataframe tbody tr th {\n",
       "        vertical-align: top;\n",
       "    }\n",
       "\n",
       "    .dataframe thead th {\n",
       "        text-align: right;\n",
       "    }\n",
       "</style>\n",
       "<table border=\"1\" class=\"dataframe\">\n",
       "  <thead>\n",
       "    <tr style=\"text-align: right;\">\n",
       "      <th></th>\n",
       "      <th>City</th>\n",
       "      <th>Lat</th>\n",
       "      <th>Lng</th>\n",
       "      <th>Temp</th>\n",
       "      <th>Humidity</th>\n",
       "      <th>Cloudiness</th>\n",
       "      <th>Wind Speed</th>\n",
       "      <th>Country</th>\n",
       "      <th>Date</th>\n",
       "    </tr>\n",
       "  </thead>\n",
       "  <tbody>\n",
       "    <tr>\n",
       "      <th>0</th>\n",
       "      <td>Nantucket</td>\n",
       "      <td>41.2835</td>\n",
       "      <td>-70.0995</td>\n",
       "      <td>42.89</td>\n",
       "      <td>56</td>\n",
       "      <td>1</td>\n",
       "      <td>23.02</td>\n",
       "      <td>US</td>\n",
       "      <td>02/06/2021</td>\n",
       "    </tr>\n",
       "    <tr>\n",
       "      <th>1</th>\n",
       "      <td>Jalu</td>\n",
       "      <td>29.0331</td>\n",
       "      <td>21.5482</td>\n",
       "      <td>63.28</td>\n",
       "      <td>35</td>\n",
       "      <td>0</td>\n",
       "      <td>8.52</td>\n",
       "      <td>LY</td>\n",
       "      <td>02/06/2021</td>\n",
       "    </tr>\n",
       "    <tr>\n",
       "      <th>2</th>\n",
       "      <td>Kruisfontein</td>\n",
       "      <td>-34.0033</td>\n",
       "      <td>24.7314</td>\n",
       "      <td>68.00</td>\n",
       "      <td>86</td>\n",
       "      <td>0</td>\n",
       "      <td>3.00</td>\n",
       "      <td>ZA</td>\n",
       "      <td>02/06/2021</td>\n",
       "    </tr>\n",
       "    <tr>\n",
       "      <th>3</th>\n",
       "      <td>Yellowknife</td>\n",
       "      <td>62.4560</td>\n",
       "      <td>-114.3525</td>\n",
       "      <td>-37.70</td>\n",
       "      <td>67</td>\n",
       "      <td>1</td>\n",
       "      <td>3.44</td>\n",
       "      <td>CA</td>\n",
       "      <td>02/06/2021</td>\n",
       "    </tr>\n",
       "    <tr>\n",
       "      <th>4</th>\n",
       "      <td>Rikitea</td>\n",
       "      <td>-23.1203</td>\n",
       "      <td>-134.9692</td>\n",
       "      <td>77.72</td>\n",
       "      <td>73</td>\n",
       "      <td>100</td>\n",
       "      <td>11.63</td>\n",
       "      <td>PF</td>\n",
       "      <td>02/06/2021</td>\n",
       "    </tr>\n",
       "    <tr>\n",
       "      <th>5</th>\n",
       "      <td>Semenyih</td>\n",
       "      <td>2.9516</td>\n",
       "      <td>101.8430</td>\n",
       "      <td>79.14</td>\n",
       "      <td>69</td>\n",
       "      <td>20</td>\n",
       "      <td>8.05</td>\n",
       "      <td>MY</td>\n",
       "      <td>02/06/2021</td>\n",
       "    </tr>\n",
       "    <tr>\n",
       "      <th>6</th>\n",
       "      <td>Mataura</td>\n",
       "      <td>-46.1927</td>\n",
       "      <td>168.8643</td>\n",
       "      <td>52.38</td>\n",
       "      <td>90</td>\n",
       "      <td>5</td>\n",
       "      <td>1.79</td>\n",
       "      <td>NZ</td>\n",
       "      <td>02/06/2021</td>\n",
       "    </tr>\n",
       "    <tr>\n",
       "      <th>7</th>\n",
       "      <td>Ushuaia</td>\n",
       "      <td>-54.8000</td>\n",
       "      <td>-68.3000</td>\n",
       "      <td>55.40</td>\n",
       "      <td>67</td>\n",
       "      <td>20</td>\n",
       "      <td>21.85</td>\n",
       "      <td>AR</td>\n",
       "      <td>02/06/2021</td>\n",
       "    </tr>\n",
       "    <tr>\n",
       "      <th>8</th>\n",
       "      <td>Magdagachi</td>\n",
       "      <td>53.4500</td>\n",
       "      <td>125.8000</td>\n",
       "      <td>-19.03</td>\n",
       "      <td>84</td>\n",
       "      <td>0</td>\n",
       "      <td>3.94</td>\n",
       "      <td>RU</td>\n",
       "      <td>02/06/2021</td>\n",
       "    </tr>\n",
       "    <tr>\n",
       "      <th>9</th>\n",
       "      <td>Benjamín Hill</td>\n",
       "      <td>30.1667</td>\n",
       "      <td>-111.1000</td>\n",
       "      <td>72.50</td>\n",
       "      <td>17</td>\n",
       "      <td>0</td>\n",
       "      <td>4.00</td>\n",
       "      <td>MX</td>\n",
       "      <td>02/06/2021</td>\n",
       "    </tr>\n",
       "  </tbody>\n",
       "</table>\n",
       "</div>"
      ],
      "text/plain": [
       "            City      Lat       Lng   Temp  Humidity  Cloudiness  Wind Speed  \\\n",
       "0      Nantucket  41.2835  -70.0995  42.89        56           1       23.02   \n",
       "1           Jalu  29.0331   21.5482  63.28        35           0        8.52   \n",
       "2   Kruisfontein -34.0033   24.7314  68.00        86           0        3.00   \n",
       "3    Yellowknife  62.4560 -114.3525 -37.70        67           1        3.44   \n",
       "4        Rikitea -23.1203 -134.9692  77.72        73         100       11.63   \n",
       "5       Semenyih   2.9516  101.8430  79.14        69          20        8.05   \n",
       "6        Mataura -46.1927  168.8643  52.38        90           5        1.79   \n",
       "7        Ushuaia -54.8000  -68.3000  55.40        67          20       21.85   \n",
       "8     Magdagachi  53.4500  125.8000 -19.03        84           0        3.94   \n",
       "9  Benjamín Hill  30.1667 -111.1000  72.50        17           0        4.00   \n",
       "\n",
       "  Country        Date  \n",
       "0      US  02/06/2021  \n",
       "1      LY  02/06/2021  \n",
       "2      ZA  02/06/2021  \n",
       "3      CA  02/06/2021  \n",
       "4      PF  02/06/2021  \n",
       "5      MY  02/06/2021  \n",
       "6      NZ  02/06/2021  \n",
       "7      AR  02/06/2021  \n",
       "8      RU  02/06/2021  \n",
       "9      MX  02/06/2021  "
      ]
     },
     "execution_count": 69,
     "metadata": {},
     "output_type": "execute_result"
    }
   ],
   "source": [
    "#which we call \"clean_city_data\"\n",
    "clean_city_data"
   ]
  },
  {
   "cell_type": "code",
   "execution_count": null,
   "metadata": {},
   "outputs": [],
   "source": []
  },
  {
   "cell_type": "markdown",
   "metadata": {},
   "source": [
    "## Plotting the Data\n",
    "* Use proper labeling of the plots using plot titles (including date of analysis) and axes labels.\n",
    "* Save the plotted figures as .pngs."
   ]
  },
  {
   "cell_type": "markdown",
   "metadata": {},
   "source": [
    "## Latitude vs. Temperature Plot"
   ]
  },
  {
   "cell_type": "code",
   "execution_count": 74,
   "metadata": {},
   "outputs": [
    {
     "data": {
      "image/png": "[encoded data removed]",
      "text/plain": [
       "<Figure size 576x396 with 2 Axes>"
      ]
     },
     "metadata": {},
     "output_type": "display_data"
    }
   ],
   "source": [
    "#Use proper labeling of the plots using plot titles (including date of analysis) and axes labels.\n",
    "date = clean_city_data['Date'].max()\n",
    "plt.style.use('seaborn')\n",
    "x = clean_city_data['Lat']\n",
    "y = clean_city_data['Temp']\n",
    "ratio = clean_city_data['Temp'] #[1, 0.53, 2, 0.76, 0.5, 2.125, 0.56, 1.28, 1.09, 1.02]\n",
    "plt.scatter(x, y, s=100, c=ratio, cmap=\"cool_r\", edgecolor=\"#FFD500\", linewidth=1, alpha=0.75)\n",
    "plt.title(f\"Latitude of cities vs Temperature °F | {date}\", fontsize = \"12\")\n",
    "plt.xlabel(f\"Latitude\", fontsize=\"14\")\n",
    "plt.ylabel(f\"Temperature °F\", fontsize=\"14\")\n",
    "cbar = plt.colorbar()\n",
    "cbar.set_label('Latitud vs max Temperature')\n"
   ]
  },
  {
   "cell_type": "code",
   "execution_count": null,
   "metadata": {
    "scrolled": true
   },
   "outputs": [],
   "source": []
  },
  {
   "cell_type": "markdown",
   "metadata": {},
   "source": [
    "## Latitude vs. Humidity Plot"
   ]
  },
  {
   "cell_type": "code",
   "execution_count": 76,
   "metadata": {},
   "outputs": [
    {
     "data": {
      "image/png": "[encoded data removed]",
      "text/plain": [
       "<Figure size 576x396 with 2 Axes>"
      ]
     },
     "metadata": {},
     "output_type": "display_data"
    }
   ],
   "source": [
    "date = clean_city_data['Date'].max()\n",
    "plt.style.use('seaborn')\n",
    "x = clean_city_data['Lat']\n",
    "y = clean_city_data['Humidity']\n",
    "plt.scatter(x, y, s=100, c=ratio, cmap=\"RdYlBu_r\", edgecolor=\"#FFD500\", linewidth=1, alpha=0.75)\n",
    "plt.title(f\"Latitude of cities vs Humidity | {date}\", fontsize = \"12\")\n",
    "plt.xlabel(f\"Latitude\", fontsize=\"14\")\n",
    "plt.ylabel(f\"Humidity\", fontsize=\"14\")\n",
    "cbar= plt.colorbar()\n",
    "cbar.set_label('Latitud vs Humidity')"
   ]
  },
  {
   "cell_type": "markdown",
   "metadata": {},
   "source": [
    "## Latitude vs. Cloudiness Plot"
   ]
  },
  {
   "cell_type": "code",
   "execution_count": 77,
   "metadata": {},
   "outputs": [
    {
     "data": {
      "image/png": "[encoded data removed]",
      "text/plain": [
       "<Figure size 576x396 with 2 Axes>"
      ]
     },
     "metadata": {},
     "output_type": "display_data"
    }
   ],
   "source": [
    "date = clean_city_data['Date'].max()\n",
    "plt.style.use('seaborn')\n",
    "x = clean_city_data['Lat']\n",
    "y = clean_city_data['Cloudiness']\n",
    "plt.scatter(x, y, s=100, c=ratio, cmap=\"gist_gray_r\", edgecolor=\"grey\", linewidth=1, alpha=0.75);\n",
    "plt.title(f\"Latitude of cities vs Cloudiness | {date}\", fontsize = \"12\")\n",
    "plt.xlabel(f\"Latitude\", fontsize=\"14\")\n",
    "plt.ylabel(f\"Cloudiness\", fontsize=\"14\")\n",
    "cbar= plt.colorbar()\n",
    "cbar.set_label('Latitud vs Cloudiness')"
   ]
  },
  {
   "cell_type": "markdown",
   "metadata": {},
   "source": [
    "## Latitude vs. Wind Speed Plot"
   ]
  },
  {
   "cell_type": "code",
   "execution_count": 80,
   "metadata": {},
   "outputs": [
    {
     "data": {
      "image/png": "[encoded data removed]",
      "text/plain": [
       "<Figure size 576x396 with 2 Axes>"
      ]
     },
     "metadata": {},
     "output_type": "display_data"
    }
   ],
   "source": [
    "date = clean_city_data['Date'].max()\n",
    "plt.style.use('seaborn')\n",
    "x = clean_city_data['Lat']\n",
    "y = clean_city_data['Wind Speed']\n",
    "plt.scatter(x, y, s=100, c=ratio, cmap=\"RdBu_r\", edgecolor=\"grey\", linewidth=1, alpha=0.75);\n",
    "plt.title(f\"Latitude of cities vs Wind Speed (miles/hour) | {date}\", fontsize = \"12\")\n",
    "plt.xlabel(f\"Latitude\", fontsize=\"14\")\n",
    "plt.ylabel(f\"Wind Speed (miles/hour)\", fontsize=\"14\")\n",
    "cbar = plt.colorbar()\n",
    "cbar.set_label('Latitud vs Wind Speed (miles/hour)')\n"
   ]
  },
  {
   "cell_type": "markdown",
   "metadata": {},
   "source": [
    "## Linear Regression"
   ]
  },
  {
   "cell_type": "code",
   "execution_count": 81,
   "metadata": {},
   "outputs": [
    {
     "name": "stdout",
     "output_type": "stream",
     "text": [
      "the intercept :9.08\n",
      "Lat linear regression model :y = -0.03x + 9.08\n"
     ]
    }
   ],
   "source": [
    "#Latitude Linear Regression\n",
    "(slope, intercept, rvalue, pvalue, stderr) = linregress(x, y)\n",
    "print(f\"the intercept :{round(intercept,2)}\");\n",
    "regress_values = x * slope + intercept\n",
    "line_eq = \"y = \" + str(round(slope,2)) + \"x + \" + str(round(intercept,2))\n",
    "print(f\"Lat linear regression model :{line_eq}\");\n",
    "#plt.scatter(X,Y, s=100, c=\"#000023\", alpha=0.9, linewidths=1, edgecolors=\"black\", sizes=sizes, cmap=\"viridis\")\n",
    "#plt.plot(x,regress_values,\"r-\");\n"
   ]
  },
  {
   "cell_type": "markdown",
   "metadata": {},
   "source": [
    "####  Northern Hemisphere - Max Temp vs. Latitude Linear Regression"
   ]
  },
  {
   "cell_type": "code",
   "execution_count": 91,
   "metadata": {},
   "outputs": [
    {
     "ename": "ValueError",
     "evalue": "'c' argument has 6 elements, which is inconsistent with 'x' and 'y' with size 4.",
     "output_type": "error",
     "traceback": [
      "\u001b[1;31m---------------------------------------------------------------------------\u001b[0m",
      "\u001b[1;31mValueError\u001b[0m                                Traceback (most recent call last)",
      "\u001b[1;32m~\\AppData\\Roaming\\Python\\Python38\\site-packages\\matplotlib\\axes\\_axes.py\u001b[0m in \u001b[0;36m_parse_scatter_color_args\u001b[1;34m(c, edgecolors, kwargs, xsize, get_next_color_func)\u001b[0m\n\u001b[0;32m   4290\u001b[0m             \u001b[1;32mtry\u001b[0m\u001b[1;33m:\u001b[0m  \u001b[1;31m# Is 'c' acceptable as PathCollection facecolors?\u001b[0m\u001b[1;33m\u001b[0m\u001b[1;33m\u001b[0m\u001b[0m\n\u001b[1;32m-> 4291\u001b[1;33m                 \u001b[0mcolors\u001b[0m \u001b[1;33m=\u001b[0m \u001b[0mmcolors\u001b[0m\u001b[1;33m.\u001b[0m\u001b[0mto_rgba_array\u001b[0m\u001b[1;33m(\u001b[0m\u001b[0mc\u001b[0m\u001b[1;33m)\u001b[0m\u001b[1;33m\u001b[0m\u001b[1;33m\u001b[0m\u001b[0m\n\u001b[0m\u001b[0;32m   4292\u001b[0m             \u001b[1;32mexcept\u001b[0m \u001b[1;33m(\u001b[0m\u001b[0mTypeError\u001b[0m\u001b[1;33m,\u001b[0m \u001b[0mValueError\u001b[0m\u001b[1;33m)\u001b[0m \u001b[1;32mas\u001b[0m \u001b[0merr\u001b[0m\u001b[1;33m:\u001b[0m\u001b[1;33m\u001b[0m\u001b[1;33m\u001b[0m\u001b[0m\n",
      "\u001b[1;32m~\\AppData\\Roaming\\Python\\Python38\\site-packages\\matplotlib\\colors.py\u001b[0m in \u001b[0;36mto_rgba_array\u001b[1;34m(c, alpha)\u001b[0m\n\u001b[0;32m    340\u001b[0m     \u001b[1;32melse\u001b[0m\u001b[1;33m:\u001b[0m\u001b[1;33m\u001b[0m\u001b[1;33m\u001b[0m\u001b[0m\n\u001b[1;32m--> 341\u001b[1;33m         \u001b[1;32mreturn\u001b[0m \u001b[0mnp\u001b[0m\u001b[1;33m.\u001b[0m\u001b[0marray\u001b[0m\u001b[1;33m(\u001b[0m\u001b[1;33m[\u001b[0m\u001b[0mto_rgba\u001b[0m\u001b[1;33m(\u001b[0m\u001b[0mcc\u001b[0m\u001b[1;33m,\u001b[0m \u001b[0malpha\u001b[0m\u001b[1;33m)\u001b[0m \u001b[1;32mfor\u001b[0m \u001b[0mcc\u001b[0m \u001b[1;32min\u001b[0m \u001b[0mc\u001b[0m\u001b[1;33m]\u001b[0m\u001b[1;33m)\u001b[0m\u001b[1;33m\u001b[0m\u001b[1;33m\u001b[0m\u001b[0m\n\u001b[0m\u001b[0;32m    342\u001b[0m \u001b[1;33m\u001b[0m\u001b[0m\n",
      "\u001b[1;32m~\\AppData\\Roaming\\Python\\Python38\\site-packages\\matplotlib\\colors.py\u001b[0m in \u001b[0;36m<listcomp>\u001b[1;34m(.0)\u001b[0m\n\u001b[0;32m    340\u001b[0m     \u001b[1;32melse\u001b[0m\u001b[1;33m:\u001b[0m\u001b[1;33m\u001b[0m\u001b[1;33m\u001b[0m\u001b[0m\n\u001b[1;32m--> 341\u001b[1;33m         \u001b[1;32mreturn\u001b[0m \u001b[0mnp\u001b[0m\u001b[1;33m.\u001b[0m\u001b[0marray\u001b[0m\u001b[1;33m(\u001b[0m\u001b[1;33m[\u001b[0m\u001b[0mto_rgba\u001b[0m\u001b[1;33m(\u001b[0m\u001b[0mcc\u001b[0m\u001b[1;33m,\u001b[0m \u001b[0malpha\u001b[0m\u001b[1;33m)\u001b[0m \u001b[1;32mfor\u001b[0m \u001b[0mcc\u001b[0m \u001b[1;32min\u001b[0m \u001b[0mc\u001b[0m\u001b[1;33m]\u001b[0m\u001b[1;33m)\u001b[0m\u001b[1;33m\u001b[0m\u001b[1;33m\u001b[0m\u001b[0m\n\u001b[0m\u001b[0;32m    342\u001b[0m \u001b[1;33m\u001b[0m\u001b[0m\n",
      "\u001b[1;32m~\\AppData\\Roaming\\Python\\Python38\\site-packages\\matplotlib\\colors.py\u001b[0m in \u001b[0;36mto_rgba\u001b[1;34m(c, alpha)\u001b[0m\n\u001b[0;32m    188\u001b[0m     \u001b[1;32mif\u001b[0m \u001b[0mrgba\u001b[0m \u001b[1;32mis\u001b[0m \u001b[1;32mNone\u001b[0m\u001b[1;33m:\u001b[0m  \u001b[1;31m# Suppress exception chaining of cache lookup failure.\u001b[0m\u001b[1;33m\u001b[0m\u001b[1;33m\u001b[0m\u001b[0m\n\u001b[1;32m--> 189\u001b[1;33m         \u001b[0mrgba\u001b[0m \u001b[1;33m=\u001b[0m \u001b[0m_to_rgba_no_colorcycle\u001b[0m\u001b[1;33m(\u001b[0m\u001b[0mc\u001b[0m\u001b[1;33m,\u001b[0m \u001b[0malpha\u001b[0m\u001b[1;33m)\u001b[0m\u001b[1;33m\u001b[0m\u001b[1;33m\u001b[0m\u001b[0m\n\u001b[0m\u001b[0;32m    190\u001b[0m         \u001b[1;32mtry\u001b[0m\u001b[1;33m:\u001b[0m\u001b[1;33m\u001b[0m\u001b[1;33m\u001b[0m\u001b[0m\n",
      "\u001b[1;32m~\\AppData\\Roaming\\Python\\Python38\\site-packages\\matplotlib\\colors.py\u001b[0m in \u001b[0;36m_to_rgba_no_colorcycle\u001b[1;34m(c, alpha)\u001b[0m\n\u001b[0;32m    262\u001b[0m     \u001b[1;32mif\u001b[0m \u001b[1;32mnot\u001b[0m \u001b[0mnp\u001b[0m\u001b[1;33m.\u001b[0m\u001b[0miterable\u001b[0m\u001b[1;33m(\u001b[0m\u001b[0mc\u001b[0m\u001b[1;33m)\u001b[0m\u001b[1;33m:\u001b[0m\u001b[1;33m\u001b[0m\u001b[1;33m\u001b[0m\u001b[0m\n\u001b[1;32m--> 263\u001b[1;33m         \u001b[1;32mraise\u001b[0m \u001b[0mValueError\u001b[0m\u001b[1;33m(\u001b[0m\u001b[1;34mf\"Invalid RGBA argument: {orig_c!r}\"\u001b[0m\u001b[1;33m)\u001b[0m\u001b[1;33m\u001b[0m\u001b[1;33m\u001b[0m\u001b[0m\n\u001b[0m\u001b[0;32m    264\u001b[0m     \u001b[1;32mif\u001b[0m \u001b[0mlen\u001b[0m\u001b[1;33m(\u001b[0m\u001b[0mc\u001b[0m\u001b[1;33m)\u001b[0m \u001b[1;32mnot\u001b[0m \u001b[1;32min\u001b[0m \u001b[1;33m[\u001b[0m\u001b[1;36m3\u001b[0m\u001b[1;33m,\u001b[0m \u001b[1;36m4\u001b[0m\u001b[1;33m]\u001b[0m\u001b[1;33m:\u001b[0m\u001b[1;33m\u001b[0m\u001b[1;33m\u001b[0m\u001b[0m\n",
      "\u001b[1;31mValueError\u001b[0m: Invalid RGBA argument: 0.0",
      "\nThe above exception was the direct cause of the following exception:\n",
      "\u001b[1;31mValueError\u001b[0m                                Traceback (most recent call last)",
      "\u001b[1;32m<ipython-input-91-d76d13057fba>\u001b[0m in \u001b[0;36m<module>\u001b[1;34m\u001b[0m\n\u001b[0;32m     34\u001b[0m \u001b[0mcorrelation_South\u001b[0m \u001b[1;33m=\u001b[0m \u001b[0mround\u001b[0m\u001b[1;33m(\u001b[0m\u001b[0mrvalue\u001b[0m\u001b[1;33m,\u001b[0m\u001b[1;36m2\u001b[0m\u001b[1;33m)\u001b[0m\u001b[1;33m\u001b[0m\u001b[1;33m\u001b[0m\u001b[0m\n\u001b[0;32m     35\u001b[0m \u001b[0mplt\u001b[0m\u001b[1;33m.\u001b[0m\u001b[0mstyle\u001b[0m\u001b[1;33m.\u001b[0m\u001b[0muse\u001b[0m\u001b[1;33m(\u001b[0m\u001b[1;34m'seaborn'\u001b[0m\u001b[1;33m)\u001b[0m\u001b[1;33m\u001b[0m\u001b[1;33m\u001b[0m\u001b[0m\n\u001b[1;32m---> 36\u001b[1;33m \u001b[0msur\u001b[0m \u001b[1;33m=\u001b[0m \u001b[0mplt\u001b[0m\u001b[1;33m.\u001b[0m\u001b[0mscatter\u001b[0m\u001b[1;33m(\u001b[0m\u001b[0mx_South\u001b[0m\u001b[1;33m,\u001b[0m \u001b[0my_South\u001b[0m\u001b[1;33m,\u001b[0m \u001b[0ms\u001b[0m\u001b[1;33m=\u001b[0m\u001b[1;36m100\u001b[0m\u001b[1;33m,\u001b[0m \u001b[0mc\u001b[0m\u001b[1;33m=\u001b[0m\u001b[0mratio\u001b[0m\u001b[1;33m,\u001b[0m \u001b[0mcmap\u001b[0m\u001b[1;33m=\u001b[0m\u001b[1;34m\"cool_r\"\u001b[0m\u001b[1;33m,\u001b[0m \u001b[0medgecolor\u001b[0m\u001b[1;33m=\u001b[0m\u001b[1;34m\"#FFD500\"\u001b[0m\u001b[1;33m,\u001b[0m \u001b[0mlinewidth\u001b[0m\u001b[1;33m=\u001b[0m\u001b[1;36m1\u001b[0m\u001b[1;33m,\u001b[0m \u001b[0malpha\u001b[0m\u001b[1;33m=\u001b[0m\u001b[1;36m0.75\u001b[0m\u001b[1;33m)\u001b[0m\u001b[1;33m;\u001b[0m\u001b[1;33m\u001b[0m\u001b[1;33m\u001b[0m\u001b[0m\n\u001b[0m\u001b[0;32m     37\u001b[0m \u001b[0mplt\u001b[0m\u001b[1;33m.\u001b[0m\u001b[0mplot\u001b[0m\u001b[1;33m(\u001b[0m\u001b[0mx_South\u001b[0m\u001b[1;33m,\u001b[0m\u001b[0mregress_values\u001b[0m\u001b[1;33m,\u001b[0m\u001b[1;34m\"r-\"\u001b[0m\u001b[1;33m)\u001b[0m\u001b[1;33m\u001b[0m\u001b[1;33m\u001b[0m\u001b[0m\n\u001b[0;32m     38\u001b[0m \u001b[1;31m#plt.annotate(line_north,(20,100),fontsize=14, color=\"red\")\u001b[0m\u001b[1;33m\u001b[0m\u001b[1;33m\u001b[0m\u001b[1;33m\u001b[0m\u001b[0m\n",
      "\u001b[1;32m~\\AppData\\Roaming\\Python\\Python38\\site-packages\\matplotlib\\pyplot.py\u001b[0m in \u001b[0;36mscatter\u001b[1;34m(x, y, s, c, marker, cmap, norm, vmin, vmax, alpha, linewidths, verts, edgecolors, plotnonfinite, data, **kwargs)\u001b[0m\n\u001b[0;32m   2888\u001b[0m         \u001b[0mverts\u001b[0m\u001b[1;33m=\u001b[0m\u001b[0mcbook\u001b[0m\u001b[1;33m.\u001b[0m\u001b[0mdeprecation\u001b[0m\u001b[1;33m.\u001b[0m\u001b[0m_deprecated_parameter\u001b[0m\u001b[1;33m,\u001b[0m\u001b[1;33m\u001b[0m\u001b[1;33m\u001b[0m\u001b[0m\n\u001b[0;32m   2889\u001b[0m         edgecolors=None, *, plotnonfinite=False, data=None, **kwargs):\n\u001b[1;32m-> 2890\u001b[1;33m     __ret = gca().scatter(\n\u001b[0m\u001b[0;32m   2891\u001b[0m         \u001b[0mx\u001b[0m\u001b[1;33m,\u001b[0m \u001b[0my\u001b[0m\u001b[1;33m,\u001b[0m \u001b[0ms\u001b[0m\u001b[1;33m=\u001b[0m\u001b[0ms\u001b[0m\u001b[1;33m,\u001b[0m \u001b[0mc\u001b[0m\u001b[1;33m=\u001b[0m\u001b[0mc\u001b[0m\u001b[1;33m,\u001b[0m \u001b[0mmarker\u001b[0m\u001b[1;33m=\u001b[0m\u001b[0mmarker\u001b[0m\u001b[1;33m,\u001b[0m \u001b[0mcmap\u001b[0m\u001b[1;33m=\u001b[0m\u001b[0mcmap\u001b[0m\u001b[1;33m,\u001b[0m \u001b[0mnorm\u001b[0m\u001b[1;33m=\u001b[0m\u001b[0mnorm\u001b[0m\u001b[1;33m,\u001b[0m\u001b[1;33m\u001b[0m\u001b[1;33m\u001b[0m\u001b[0m\n\u001b[0;32m   2892\u001b[0m         \u001b[0mvmin\u001b[0m\u001b[1;33m=\u001b[0m\u001b[0mvmin\u001b[0m\u001b[1;33m,\u001b[0m \u001b[0mvmax\u001b[0m\u001b[1;33m=\u001b[0m\u001b[0mvmax\u001b[0m\u001b[1;33m,\u001b[0m \u001b[0malpha\u001b[0m\u001b[1;33m=\u001b[0m\u001b[0malpha\u001b[0m\u001b[1;33m,\u001b[0m \u001b[0mlinewidths\u001b[0m\u001b[1;33m=\u001b[0m\u001b[0mlinewidths\u001b[0m\u001b[1;33m,\u001b[0m\u001b[1;33m\u001b[0m\u001b[1;33m\u001b[0m\u001b[0m\n",
      "\u001b[1;32m~\\AppData\\Roaming\\Python\\Python38\\site-packages\\matplotlib\\__init__.py\u001b[0m in \u001b[0;36minner\u001b[1;34m(ax, data, *args, **kwargs)\u001b[0m\n\u001b[0;32m   1445\u001b[0m     \u001b[1;32mdef\u001b[0m \u001b[0minner\u001b[0m\u001b[1;33m(\u001b[0m\u001b[0max\u001b[0m\u001b[1;33m,\u001b[0m \u001b[1;33m*\u001b[0m\u001b[0margs\u001b[0m\u001b[1;33m,\u001b[0m \u001b[0mdata\u001b[0m\u001b[1;33m=\u001b[0m\u001b[1;32mNone\u001b[0m\u001b[1;33m,\u001b[0m \u001b[1;33m**\u001b[0m\u001b[0mkwargs\u001b[0m\u001b[1;33m)\u001b[0m\u001b[1;33m:\u001b[0m\u001b[1;33m\u001b[0m\u001b[1;33m\u001b[0m\u001b[0m\n\u001b[0;32m   1446\u001b[0m         \u001b[1;32mif\u001b[0m \u001b[0mdata\u001b[0m \u001b[1;32mis\u001b[0m \u001b[1;32mNone\u001b[0m\u001b[1;33m:\u001b[0m\u001b[1;33m\u001b[0m\u001b[1;33m\u001b[0m\u001b[0m\n\u001b[1;32m-> 1447\u001b[1;33m             \u001b[1;32mreturn\u001b[0m \u001b[0mfunc\u001b[0m\u001b[1;33m(\u001b[0m\u001b[0max\u001b[0m\u001b[1;33m,\u001b[0m \u001b[1;33m*\u001b[0m\u001b[0mmap\u001b[0m\u001b[1;33m(\u001b[0m\u001b[0msanitize_sequence\u001b[0m\u001b[1;33m,\u001b[0m \u001b[0margs\u001b[0m\u001b[1;33m)\u001b[0m\u001b[1;33m,\u001b[0m \u001b[1;33m**\u001b[0m\u001b[0mkwargs\u001b[0m\u001b[1;33m)\u001b[0m\u001b[1;33m\u001b[0m\u001b[1;33m\u001b[0m\u001b[0m\n\u001b[0m\u001b[0;32m   1448\u001b[0m \u001b[1;33m\u001b[0m\u001b[0m\n\u001b[0;32m   1449\u001b[0m         \u001b[0mbound\u001b[0m \u001b[1;33m=\u001b[0m \u001b[0mnew_sig\u001b[0m\u001b[1;33m.\u001b[0m\u001b[0mbind\u001b[0m\u001b[1;33m(\u001b[0m\u001b[0max\u001b[0m\u001b[1;33m,\u001b[0m \u001b[1;33m*\u001b[0m\u001b[0margs\u001b[0m\u001b[1;33m,\u001b[0m \u001b[1;33m**\u001b[0m\u001b[0mkwargs\u001b[0m\u001b[1;33m)\u001b[0m\u001b[1;33m\u001b[0m\u001b[1;33m\u001b[0m\u001b[0m\n",
      "\u001b[1;32m~\\AppData\\Roaming\\Python\\Python38\\site-packages\\matplotlib\\cbook\\deprecation.py\u001b[0m in \u001b[0;36mwrapper\u001b[1;34m(*inner_args, **inner_kwargs)\u001b[0m\n\u001b[0;32m    409\u001b[0m                          \u001b[1;32melse\u001b[0m \u001b[0mdeprecation_addendum\u001b[0m\u001b[1;33m,\u001b[0m\u001b[1;33m\u001b[0m\u001b[1;33m\u001b[0m\u001b[0m\n\u001b[0;32m    410\u001b[0m                 **kwargs)\n\u001b[1;32m--> 411\u001b[1;33m         \u001b[1;32mreturn\u001b[0m \u001b[0mfunc\u001b[0m\u001b[1;33m(\u001b[0m\u001b[1;33m*\u001b[0m\u001b[0minner_args\u001b[0m\u001b[1;33m,\u001b[0m \u001b[1;33m**\u001b[0m\u001b[0minner_kwargs\u001b[0m\u001b[1;33m)\u001b[0m\u001b[1;33m\u001b[0m\u001b[1;33m\u001b[0m\u001b[0m\n\u001b[0m\u001b[0;32m    412\u001b[0m \u001b[1;33m\u001b[0m\u001b[0m\n\u001b[0;32m    413\u001b[0m     \u001b[1;32mreturn\u001b[0m \u001b[0mwrapper\u001b[0m\u001b[1;33m\u001b[0m\u001b[1;33m\u001b[0m\u001b[0m\n",
      "\u001b[1;32m~\\AppData\\Roaming\\Python\\Python38\\site-packages\\matplotlib\\axes\\_axes.py\u001b[0m in \u001b[0;36mscatter\u001b[1;34m(self, x, y, s, c, marker, cmap, norm, vmin, vmax, alpha, linewidths, verts, edgecolors, plotnonfinite, **kwargs)\u001b[0m\n\u001b[0;32m   4449\u001b[0m \u001b[1;33m\u001b[0m\u001b[0m\n\u001b[0;32m   4450\u001b[0m         \u001b[0mc\u001b[0m\u001b[1;33m,\u001b[0m \u001b[0mcolors\u001b[0m\u001b[1;33m,\u001b[0m \u001b[0medgecolors\u001b[0m \u001b[1;33m=\u001b[0m\u001b[0;31m \u001b[0m\u001b[0;31m\\\u001b[0m\u001b[1;33m\u001b[0m\u001b[1;33m\u001b[0m\u001b[0m\n\u001b[1;32m-> 4451\u001b[1;33m             self._parse_scatter_color_args(\n\u001b[0m\u001b[0;32m   4452\u001b[0m                 \u001b[0mc\u001b[0m\u001b[1;33m,\u001b[0m \u001b[0medgecolors\u001b[0m\u001b[1;33m,\u001b[0m \u001b[0mkwargs\u001b[0m\u001b[1;33m,\u001b[0m \u001b[0mx\u001b[0m\u001b[1;33m.\u001b[0m\u001b[0msize\u001b[0m\u001b[1;33m,\u001b[0m\u001b[1;33m\u001b[0m\u001b[1;33m\u001b[0m\u001b[0m\n\u001b[0;32m   4453\u001b[0m                 get_next_color_func=self._get_patches_for_fill.get_next_color)\n",
      "\u001b[1;32m~\\AppData\\Roaming\\Python\\Python38\\site-packages\\matplotlib\\axes\\_axes.py\u001b[0m in \u001b[0;36m_parse_scatter_color_args\u001b[1;34m(c, edgecolors, kwargs, xsize, get_next_color_func)\u001b[0m\n\u001b[0;32m   4295\u001b[0m                 \u001b[1;32melse\u001b[0m\u001b[1;33m:\u001b[0m\u001b[1;33m\u001b[0m\u001b[1;33m\u001b[0m\u001b[0m\n\u001b[0;32m   4296\u001b[0m                     \u001b[1;32mif\u001b[0m \u001b[1;32mnot\u001b[0m \u001b[0mvalid_shape\u001b[0m\u001b[1;33m:\u001b[0m\u001b[1;33m\u001b[0m\u001b[1;33m\u001b[0m\u001b[0m\n\u001b[1;32m-> 4297\u001b[1;33m                         \u001b[1;32mraise\u001b[0m \u001b[0minvalid_shape_exception\u001b[0m\u001b[1;33m(\u001b[0m\u001b[0mc\u001b[0m\u001b[1;33m.\u001b[0m\u001b[0msize\u001b[0m\u001b[1;33m,\u001b[0m \u001b[0mxsize\u001b[0m\u001b[1;33m)\u001b[0m \u001b[1;32mfrom\u001b[0m \u001b[0merr\u001b[0m\u001b[1;33m\u001b[0m\u001b[1;33m\u001b[0m\u001b[0m\n\u001b[0m\u001b[0;32m   4298\u001b[0m                     \u001b[1;31m# Both the mapping *and* the RGBA conversion failed: pretty\u001b[0m\u001b[1;33m\u001b[0m\u001b[1;33m\u001b[0m\u001b[1;33m\u001b[0m\u001b[0m\n\u001b[0;32m   4299\u001b[0m                     \u001b[1;31m# severe failure => one may appreciate a verbose feedback.\u001b[0m\u001b[1;33m\u001b[0m\u001b[1;33m\u001b[0m\u001b[1;33m\u001b[0m\u001b[0m\n",
      "\u001b[1;31mValueError\u001b[0m: 'c' argument has 6 elements, which is inconsistent with 'x' and 'y' with size 4."
     ]
    },
    {
     "data": {
      "image/png": "[encoded data removed]",
      "text/plain": [
       "<Figure size 576x396 with 2 Axes>"
      ]
     },
     "metadata": {},
     "output_type": "display_data"
    }
   ],
   "source": [
    "# Northern Hemisphere = Latitude between 0 ° and 90 °: Northern Hemisphere\n",
    "Northern_city_data = meteorology_cities[(meteorology_cities['Lat'] > 0)]\n",
    "# Southern Hemisphere = Latitude between 0 ° and -90 °: Southern Hemisphere\n",
    "Southern_city_data = meteorology_cities[(meteorology_cities['Lat'] < 0)]\n",
    "date = Northern_city_data['Date'].max()\n",
    "#Northern Hemisphere - Max Temp vs. Latitude Linear Regression\n",
    "x_north=Northern_city_data['Lat']\n",
    "y_north=Northern_city_data['Temp']\n",
    "ratio_Northern = Northern_city_data['Temp']\n",
    "(slope, intercept, rvalue, pvalue, stderr) = linregress(x_north, y_north)\n",
    "#print(f\"the intercept :{round(intercept,2)}\");\n",
    "regress_values_north = x_north * slope + intercept\n",
    "line_North = \"y = \" + str(round(slope,2)) + \"x + \" + str(round(intercept,2))\n",
    "correlation_North = round(rvalue,2)\n",
    "plt.style.use('seaborn')\n",
    "Norte = plt.scatter(x_north, y_north, s=100, c=ratio, cmap=\"cool_r\", edgecolor=\"#FFD500\", linewidth=1, alpha=0.75);\n",
    "plt.plot(x_north,regress_values_north,\"r-\")\n",
    "plt.annotate(line_North,(40,100),fontsize=14, color=\"red\")\n",
    "plt.title(\"North Latitude of Cities vs. Temperature | {date}\", fontsize = \"12\")\n",
    "plt.xlabel(\"Latitude\", size=14)\n",
    "plt.ylabel(\"Max Temperature (F)\", size=14)\n",
    "plt.tight_layout()\n",
    "cbar= plt.colorbar()\n",
    "cbar.set_label('North Latitud vs Wind Speed (miles/hour)')\n",
    "\n",
    "#Southern Hemisphere - Max Temp vs. Latitude Linear Regression\n",
    "x_South=Southern_city_data['Lat']\n",
    "y_South=Southern_city_data['Temp']\n",
    "ratio_Southern = Southern_city_data['Temp'].index\n",
    "(slope, intercept, rvalue, pvalue, stderr) = linregress(x_South, y_Sout)\n",
    "#print(f\"the intercept :{round(intercept,2)}\");\n",
    "regress_values_South = x_South * slope + intercept\n",
    "line_South = \"y = \" + str(round(slope,2)) + \"x + \" + str(round(intercept,2))\n",
    "correlation_South = round(rvalue,2)\n",
    "plt.style.use('seaborn')\n",
    "sur = plt.scatter(x_South, y_South, s=100, c=ratio_Southern, cmap=\"cool_r\", edgecolor=\"#FFD500\", linewidth=1, alpha=0.75);\n",
    "plt.plot(x_South,regress_values,\"r-\")\n",
    "#plt.annotate(line_north,(20,100),fontsize=14, color=\"red\")\n",
    "plt.title(\"South Latitude of Cities vs. Temperature | {date}\", fontsize = \"12\")\n",
    "plt.xlabel(\"Latitude\", size=14)\n",
    "plt.ylabel(\"Max Temperature (F)\", size=14)\n",
    "plt.tight_layout()\n",
    "cbar= plt.colorbar()\n",
    "cbar.set_label('South Latitud vs Wind Speed (miles/hour)')\n",
    "\n",
    "\n",
    "plt.show();\n",
    "\n",
    "#print(f\"Lat linear regression model :{line_north}\");\n",
    "#plt.style.use('seaborn')\n",
    "#plt.scatter(x,y, s=100, c='blue', edgecolor='black', linewidth=1, alpha=0.75)\n",
    "#plt.plot(x_north,regress_values,\"r-\")\n",
    "#plt.title(f\"Latitude of Cities vs. Temperature | {date}\", fontsize = \"12\")\n",
    "#plt.xlabel(f\"Latitude\", fontsize=\"14\")\n",
    "#plt.ylabel(f\"Max Temperature (F)\", fontsize=\"14\")\n",
    "#cbar= plt.colorbar()\n",
    "#cbar.set_label('Latitud vs max Temperature')\n",
    "\n",
    "#plt.show()\n"
   ]
  },
  {
   "cell_type": "markdown",
   "metadata": {},
   "source": [
    "####  Southern Hemisphere - Max Temp vs. Latitude Linear Regression"
   ]
  },
  {
   "cell_type": "code",
   "execution_count": null,
   "metadata": {},
   "outputs": [],
   "source": []
  },
  {
   "cell_type": "markdown",
   "metadata": {},
   "source": [
    "####  Northern Hemisphere - Humidity (%) vs. Latitude Linear Regression"
   ]
  },
  {
   "cell_type": "code",
   "execution_count": null,
   "metadata": {},
   "outputs": [],
   "source": []
  },
  {
   "cell_type": "markdown",
   "metadata": {},
   "source": [
    "####  Southern Hemisphere - Humidity (%) vs. Latitude Linear Regression"
   ]
  },
  {
   "cell_type": "code",
   "execution_count": null,
   "metadata": {},
   "outputs": [],
   "source": []
  },
  {
   "cell_type": "markdown",
   "metadata": {},
   "source": [
    "####  Northern Hemisphere - Cloudiness (%) vs. Latitude Linear Regression"
   ]
  },
  {
   "cell_type": "code",
   "execution_count": null,
   "metadata": {},
   "outputs": [],
   "source": []
  },
  {
   "cell_type": "markdown",
   "metadata": {},
   "source": [
    "####  Southern Hemisphere - Cloudiness (%) vs. Latitude Linear Regression"
   ]
  },
  {
   "cell_type": "code",
   "execution_count": null,
   "metadata": {},
   "outputs": [],
   "source": []
  },
  {
   "cell_type": "markdown",
   "metadata": {},
   "source": [
    "####  Northern Hemisphere - Wind Speed (mph) vs. Latitude Linear Regression"
   ]
  },
  {
   "cell_type": "code",
   "execution_count": null,
   "metadata": {},
   "outputs": [],
   "source": []
  },
  {
   "cell_type": "markdown",
   "metadata": {},
   "source": [
    "####  Southern Hemisphere - Wind Speed (mph) vs. Latitude Linear Regression"
   ]
  },
  {
   "cell_type": "code",
   "execution_count": null,
   "metadata": {},
   "outputs": [],
   "source": []
  },
  {
   "cell_type": "code",
   "execution_count": null,
   "metadata": {},
   "outputs": [],
   "source": []
  }
 ],
 "metadata": {
  "anaconda-cloud": {},
  "kernel_info": {
   "name": "python3"
  },
  "kernelspec": {
   "display_name": "Python 3",
   "language": "python",
   "name": "python3"
  },
  "language_info": {
   "codemirror_mode": {
    "name": "ipython",
    "version": 3
   },
   "file_extension": ".py",
   "mimetype": "text/x-python",
   "name": "python",
   "nbconvert_exporter": "python",
   "pygments_lexer": "ipython3",
   "version": "3.8.5"
  },
  "latex_envs": {
   "LaTeX_envs_menu_present": true,
   "autoclose": false,
   "autocomplete": true,
   "bibliofile": "biblio.bib",
   "cite_by": "apalike",
   "current_citInitial": 1,
   "eqLabelWithNumbers": true,
   "eqNumInitial": 1,
   "hotkeys": {
    "equation": "Ctrl-E",
    "itemize": "Ctrl-I"
   },
   "labels_anchors": false,
   "latex_user_defs": false,
   "report_style_numbering": false,
   "user_envs_cfg": false
  },
  "nteract": {
   "version": "0.12.3"
  }
 },
 "nbformat": 4,
 "nbformat_minor": 2
}
