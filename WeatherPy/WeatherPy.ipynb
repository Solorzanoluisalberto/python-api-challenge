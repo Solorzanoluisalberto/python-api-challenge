{
 "cells": [
  {
   "cell_type": "markdown",
   "metadata": {},
   "source": [
    "# WeatherPy\n",
    "----\n",
    "\n",
    "#### Note\n",
    "* Instructions have been included for each segment. You do not have to follow them exactly, but they are included to help you think through the steps."
   ]
  },
  {
   "cell_type": "code",
   "execution_count": 10,
   "metadata": {
    "scrolled": true
   },
   "outputs": [],
   "source": [
    "# Dependencies and Setup\n",
    "import matplotlib.pyplot as plt\n",
    "import pandas as pd\n",
    "import numpy as np\n",
    "import requests\n",
    "import time\n",
    "from datetime import datetime \n",
    "from scipy.stats import linregress\n",
    "\n",
    "# Import API key\n",
    "from api_keys import weather_api_key\n",
    "\n",
    "# Incorporated citipy to determine city based on latitude and longitude\n",
    "from citipy import citipy\n",
    "\n",
    "# Output File (CSV)\n",
    "output_data_file = \"output_data/cities.csv\"\n",
    "\n",
    "# Range of latitudes and longitudes\n",
    "lat_range = (-90, 90)\n",
    "lng_range = (-180, 180)"
   ]
  },
  {
   "cell_type": "markdown",
   "metadata": {},
   "source": [
    "## Generate Cities List"
   ]
  },
  {
   "cell_type": "code",
   "execution_count": 11,
   "metadata": {},
   "outputs": [
    {
     "data": {
      "text/plain": [
       "603"
      ]
     },
     "execution_count": 11,
     "metadata": {},
     "output_type": "execute_result"
    }
   ],
   "source": [
    "# List for holding lat_lngs and cities\n",
    "lat_lngs = []\n",
    "cities = []\n",
    "\n",
    "# Create a set of random lat and lng combinations\n",
    "lats = np.random.uniform(lat_range[0], lat_range[1], size=1500)\n",
    "lngs = np.random.uniform(lng_range[0], lng_range[1], size=1500)\n",
    "lat_lngs = zip(lats, lngs)\n",
    "\n",
    "# Identify nearest city for each lat, lng combination\n",
    "for lat_lng in lat_lngs:\n",
    "    city = citipy.nearest_city(lat_lng[0], lat_lng[1]).city_name\n",
    "    \n",
    "    # If the city is unique, then add it to a our cities list\n",
    "    if city not in cities:\n",
    "        cities.append(city)\n",
    "\n",
    "# Print the city count to confirm sufficient count\n",
    "len(cities)"
   ]
  },
  {
   "cell_type": "markdown",
   "metadata": {},
   "source": [
    "### Perform API Calls\n",
    "* Perform a weather check on each city using a series of successive API calls.\n",
    "* Include a print log of each city as it'sbeing processed (with the city number and city name).\n"
   ]
  },
  {
   "cell_type": "code",
   "execution_count": 95,
   "metadata": {
    "scrolled": true
   },
   "outputs": [
    {
     "name": "stdout",
     "output_type": "stream",
     "text": [
      "Processing Record 1 of Set 1 |City number: 2643743, City name London\n",
      "Processing Record 2 of Set 1 |City number: 4163971, City name Melbourne\n",
      "Processing Record 3 of Set 1 |City number: 5879092, City name Alaska\n",
      "Processing Record 4 of Set 1 |City number: 138025, City name Jazan\n",
      "Processing Record 5 of Set 1 |City number: 3646738, City name Caracas\n",
      "Processing Record 6 of Set 1 |City number: 3646190, City name El Junquito\n",
      "Processing Record 7 of Set 1 |City number: 4335045, City name New Orleans\n",
      "GTY77: city not found. Skipping...\n",
      "Processing Record 8 of Set 1 |City number: 3632998, City name Maracay\n",
      "Processing Record 9 of Set 1 |City number: 5815135, City name Washington\n",
      "Processing Record 10 of Set 1 |City number: 6254927, City name Pennsylvania\n",
      "Palita: city not found. Skipping...\n",
      "Processing Record 11 of Set 1 |City number: 3640049, City name Guarenas\n",
      "Processing Record 12 of Set 1 |City number: 4180439, City name Atlanta\n",
      "Processing Record 13 of Set 1 |City number: 3688689, City name Bogotá\n"
     ]
    }
   ],
   "source": [
    "#City\tLat\tLng\tMax Temp\tHumidity\tCloudiness\tWind Speed\tCountry\tDate\n",
    "#city_results = []\n",
    "#Index_cities=[]\n",
    "\n",
    "City_Number = []\n",
    "City_Name = []\n",
    "City_Lat = []\n",
    "City_Lng = []\n",
    "City_MaxTemp = []\n",
    "City_Humidity = []\n",
    "City_Cloudiness = []\n",
    "City_WindSpeed = []\n",
    "City_Country = []\n",
    "City_Date = []\n",
    "Count_Record = 0\n",
    "#for city in cities:   \n",
    "\n",
    "weather_api_key= \"a160fd00bbc7c7caddb54e2757ff85b2\"\n",
    "city_ejempo=['London','Melbourne', 'Alaska','Jazan','Caracas', 'El Junquito', 'New Orleans', \"GTY77\", \"Maracay\", \"Washington\", \"Pensilvanya\", \"Palita\", \"guarenas\", \"Atlanta\", \"Bogota\"]\n",
    "\n",
    "for city in city_ejempo:\n",
    "    url = f\"http://api.openweathermap.org/data/2.5/weather?q={city}&appid={weather_api_key}&units=imperial\"\n",
    "    #print(url) \n",
    "    Req_weather_city = requests.get(url).json()\n",
    "    if (Req_weather_city[\"cod\"]==200):\n",
    "        Count_Record = Count_Record + 1\n",
    "        City_Number.append(Req_weather_city['id'])\n",
    "        City_Name.append(Req_weather_city['name'])\n",
    "        City_Lat.append(Req_weather_city['coord']['lat'])\n",
    "        City_Lng.append(Req_weather_city['coord']['lon'])\n",
    "        City_MaxTemp.append(Req_weather_city['main']['temp'])\n",
    "        City_Humidity.append(Req_weather_city['main']['humidity'])\n",
    "        City_Cloudiness.append(Req_weather_city['clouds']['all'])\n",
    "        City_WindSpeed.append(Req_weather_city['wind']['speed'])\n",
    "        City_Country.append(Req_weather_city['sys']['country'])\n",
    "        City_Date.append(Req_weather_city['dt'])\n",
    "        print(f\"Processing Record {Count_Record} of Set 1 |City number: {Req_weather_city['id']}, City name {Req_weather_city['name']}\")\n",
    "    else: \n",
    "        #{\"cod\":\"404\",\"message\":\"city not found\"}\n",
    "        print(f\"{city}: {Req_weather_city['message']}. Skipping...\")\n",
    "\n",
    "weather_dict = {\n",
    "    \"City\": City_Name,\n",
    "    \"Lat\": City_Lat,\n",
    "    \"Lng\":City_Lng,\n",
    "    \"Temp\": City_MaxTemp,\n",
    "    \"Humidity\":City_Humidity,\n",
    "    \"Cloudiness\":City_Cloudiness,\n",
    "    \"Wind Speed\":City_WindSpeed,\n",
    "    \"Country\":City_Country,\n",
    "    \"Date\":City_Date \n",
    "}\n",
    "meteorology_cities = pd.DataFrame(weather_dict)\n"
   ]
  },
  {
   "cell_type": "markdown",
   "metadata": {},
   "source": [
    "### Convert Raw Data to DataFrame\n",
    "* Export the city data into a .csv.\n",
    "* Display the DataFrame"
   ]
  },
  {
   "cell_type": "code",
   "execution_count": 72,
   "metadata": {},
   "outputs": [
    {
     "data": {
      "text/html": [
       "<div>\n",
       "<style scoped>\n",
       "    .dataframe tbody tr th:only-of-type {\n",
       "        vertical-align: middle;\n",
       "    }\n",
       "\n",
       "    .dataframe tbody tr th {\n",
       "        vertical-align: top;\n",
       "    }\n",
       "\n",
       "    .dataframe thead th {\n",
       "        text-align: right;\n",
       "    }\n",
       "</style>\n",
       "<table border=\"1\" class=\"dataframe\">\n",
       "  <thead>\n",
       "    <tr style=\"text-align: right;\">\n",
       "      <th></th>\n",
       "      <th>City</th>\n",
       "      <th>Lat</th>\n",
       "      <th>Lng</th>\n",
       "      <th>Temp</th>\n",
       "      <th>Humidity</th>\n",
       "      <th>Cloudiness</th>\n",
       "      <th>Wind Speed</th>\n",
       "      <th>Country</th>\n",
       "      <th>Date</th>\n",
       "    </tr>\n",
       "  </thead>\n",
       "  <tbody>\n",
       "    <tr>\n",
       "      <th>0</th>\n",
       "      <td>London</td>\n",
       "      <td>51.5085</td>\n",
       "      <td>-0.1257</td>\n",
       "      <td>46.02</td>\n",
       "      <td>87</td>\n",
       "      <td>90</td>\n",
       "      <td>3.44</td>\n",
       "      <td>GB</td>\n",
       "      <td>02/06/2021</td>\n",
       "    </tr>\n",
       "    <tr>\n",
       "      <th>1</th>\n",
       "      <td>Melbourne</td>\n",
       "      <td>28.0836</td>\n",
       "      <td>-80.6081</td>\n",
       "      <td>62.02</td>\n",
       "      <td>88</td>\n",
       "      <td>90</td>\n",
       "      <td>4.61</td>\n",
       "      <td>US</td>\n",
       "      <td>02/06/2021</td>\n",
       "    </tr>\n",
       "    <tr>\n",
       "      <th>2</th>\n",
       "      <td>Alaska</td>\n",
       "      <td>64.0003</td>\n",
       "      <td>-150.0003</td>\n",
       "      <td>-1.88</td>\n",
       "      <td>94</td>\n",
       "      <td>100</td>\n",
       "      <td>0.98</td>\n",
       "      <td>US</td>\n",
       "      <td>02/06/2021</td>\n",
       "    </tr>\n",
       "    <tr>\n",
       "      <th>3</th>\n",
       "      <td>Jazan</td>\n",
       "      <td>36.2105</td>\n",
       "      <td>54.3928</td>\n",
       "      <td>50.29</td>\n",
       "      <td>65</td>\n",
       "      <td>100</td>\n",
       "      <td>5.91</td>\n",
       "      <td>IR</td>\n",
       "      <td>02/06/2021</td>\n",
       "    </tr>\n",
       "    <tr>\n",
       "      <th>4</th>\n",
       "      <td>Caracas</td>\n",
       "      <td>10.4880</td>\n",
       "      <td>-66.8792</td>\n",
       "      <td>72.34</td>\n",
       "      <td>74</td>\n",
       "      <td>20</td>\n",
       "      <td>3.65</td>\n",
       "      <td>VE</td>\n",
       "      <td>02/06/2021</td>\n",
       "    </tr>\n",
       "    <tr>\n",
       "      <th>5</th>\n",
       "      <td>El Junquito</td>\n",
       "      <td>10.4614</td>\n",
       "      <td>-67.0806</td>\n",
       "      <td>73.45</td>\n",
       "      <td>74</td>\n",
       "      <td>20</td>\n",
       "      <td>3.38</td>\n",
       "      <td>VE</td>\n",
       "      <td>02/06/2021</td>\n",
       "    </tr>\n",
       "    <tr>\n",
       "      <th>6</th>\n",
       "      <td>New Orleans</td>\n",
       "      <td>29.9547</td>\n",
       "      <td>-90.0751</td>\n",
       "      <td>52.21</td>\n",
       "      <td>93</td>\n",
       "      <td>90</td>\n",
       "      <td>9.22</td>\n",
       "      <td>US</td>\n",
       "      <td>02/06/2021</td>\n",
       "    </tr>\n",
       "    <tr>\n",
       "      <th>7</th>\n",
       "      <td>Maracay</td>\n",
       "      <td>10.2469</td>\n",
       "      <td>-67.5958</td>\n",
       "      <td>77.00</td>\n",
       "      <td>78</td>\n",
       "      <td>20</td>\n",
       "      <td>0.29</td>\n",
       "      <td>VE</td>\n",
       "      <td>02/06/2021</td>\n",
       "    </tr>\n",
       "    <tr>\n",
       "      <th>8</th>\n",
       "      <td>Washington</td>\n",
       "      <td>47.5001</td>\n",
       "      <td>-120.5015</td>\n",
       "      <td>36.45</td>\n",
       "      <td>51</td>\n",
       "      <td>0</td>\n",
       "      <td>5.01</td>\n",
       "      <td>US</td>\n",
       "      <td>02/06/2021</td>\n",
       "    </tr>\n",
       "    <tr>\n",
       "      <th>9</th>\n",
       "      <td>Pennsylvania</td>\n",
       "      <td>40.2724</td>\n",
       "      <td>-76.9057</td>\n",
       "      <td>33.03</td>\n",
       "      <td>48</td>\n",
       "      <td>1</td>\n",
       "      <td>4.61</td>\n",
       "      <td>US</td>\n",
       "      <td>02/06/2021</td>\n",
       "    </tr>\n",
       "    <tr>\n",
       "      <th>10</th>\n",
       "      <td>Guarenas</td>\n",
       "      <td>10.4674</td>\n",
       "      <td>-66.6066</td>\n",
       "      <td>73.26</td>\n",
       "      <td>74</td>\n",
       "      <td>20</td>\n",
       "      <td>5.10</td>\n",
       "      <td>VE</td>\n",
       "      <td>02/06/2021</td>\n",
       "    </tr>\n",
       "    <tr>\n",
       "      <th>11</th>\n",
       "      <td>Atlanta</td>\n",
       "      <td>33.7490</td>\n",
       "      <td>-84.3880</td>\n",
       "      <td>36.18</td>\n",
       "      <td>93</td>\n",
       "      <td>40</td>\n",
       "      <td>5.59</td>\n",
       "      <td>US</td>\n",
       "      <td>02/06/2021</td>\n",
       "    </tr>\n",
       "    <tr>\n",
       "      <th>12</th>\n",
       "      <td>Bogotá</td>\n",
       "      <td>4.6097</td>\n",
       "      <td>-74.0817</td>\n",
       "      <td>57.20</td>\n",
       "      <td>82</td>\n",
       "      <td>75</td>\n",
       "      <td>5.75</td>\n",
       "      <td>CO</td>\n",
       "      <td>02/06/2021</td>\n",
       "    </tr>\n",
       "  </tbody>\n",
       "</table>\n",
       "</div>"
      ],
      "text/plain": [
       "            City      Lat       Lng   Temp  Humidity  Cloudiness  Wind Speed  \\\n",
       "0         London  51.5085   -0.1257  46.02        87          90        3.44   \n",
       "1      Melbourne  28.0836  -80.6081  62.02        88          90        4.61   \n",
       "2         Alaska  64.0003 -150.0003  -1.88        94         100        0.98   \n",
       "3          Jazan  36.2105   54.3928  50.29        65         100        5.91   \n",
       "4        Caracas  10.4880  -66.8792  72.34        74          20        3.65   \n",
       "5    El Junquito  10.4614  -67.0806  73.45        74          20        3.38   \n",
       "6    New Orleans  29.9547  -90.0751  52.21        93          90        9.22   \n",
       "7        Maracay  10.2469  -67.5958  77.00        78          20        0.29   \n",
       "8     Washington  47.5001 -120.5015  36.45        51           0        5.01   \n",
       "9   Pennsylvania  40.2724  -76.9057  33.03        48           1        4.61   \n",
       "10      Guarenas  10.4674  -66.6066  73.26        74          20        5.10   \n",
       "11       Atlanta  33.7490  -84.3880  36.18        93          40        5.59   \n",
       "12        Bogotá   4.6097  -74.0817  57.20        82          75        5.75   \n",
       "\n",
       "   Country        Date  \n",
       "0       GB  02/06/2021  \n",
       "1       US  02/06/2021  \n",
       "2       US  02/06/2021  \n",
       "3       IR  02/06/2021  \n",
       "4       VE  02/06/2021  \n",
       "5       VE  02/06/2021  \n",
       "6       US  02/06/2021  \n",
       "7       VE  02/06/2021  \n",
       "8       US  02/06/2021  \n",
       "9       US  02/06/2021  \n",
       "10      VE  02/06/2021  \n",
       "11      US  02/06/2021  \n",
       "12      CO  02/06/2021  "
      ]
     },
     "execution_count": 72,
     "metadata": {},
     "output_type": "execute_result"
    }
   ],
   "source": [
    "# Export the city data into a .csv.\n",
    "meteorology_cities.to_csv(\"output_data/meteorology_of_cities.csv\", index=False, header=True)\n",
    "# Display the DataFrame\n",
    "for date_ in meteorology_cities['Date']:\n",
    "    meteorology_cities['Date'] = datetime.fromtimestamp(date_).strftime('%m/%d/%Y')\n",
    "meteorology_cities"
   ]
  },
  {
   "cell_type": "markdown",
   "metadata": {},
   "source": [
    "## Inspect the data and remove the cities where the humidity > 100%.\n",
    "----\n",
    "Skip this step if there are no cities that have humidity > 100%. "
   ]
  },
  {
   "cell_type": "code",
   "execution_count": 73,
   "metadata": {},
   "outputs": [
    {
     "data": {
      "text/html": [
       "<div>\n",
       "<style scoped>\n",
       "    .dataframe tbody tr th:only-of-type {\n",
       "        vertical-align: middle;\n",
       "    }\n",
       "\n",
       "    .dataframe tbody tr th {\n",
       "        vertical-align: top;\n",
       "    }\n",
       "\n",
       "    .dataframe thead th {\n",
       "        text-align: right;\n",
       "    }\n",
       "</style>\n",
       "<table border=\"1\" class=\"dataframe\">\n",
       "  <thead>\n",
       "    <tr style=\"text-align: right;\">\n",
       "      <th></th>\n",
       "      <th>Lat</th>\n",
       "      <th>Lng</th>\n",
       "      <th>Temp</th>\n",
       "      <th>Humidity</th>\n",
       "      <th>Cloudiness</th>\n",
       "      <th>Wind Speed</th>\n",
       "    </tr>\n",
       "  </thead>\n",
       "  <tbody>\n",
       "    <tr>\n",
       "      <th>count</th>\n",
       "      <td>13.00000</td>\n",
       "      <td>13.000000</td>\n",
       "      <td>13.000000</td>\n",
       "      <td>13.000000</td>\n",
       "      <td>13.000000</td>\n",
       "      <td>13.000000</td>\n",
       "    </tr>\n",
       "    <tr>\n",
       "      <th>mean</th>\n",
       "      <td>29.04250</td>\n",
       "      <td>-68.496577</td>\n",
       "      <td>51.351538</td>\n",
       "      <td>77.000000</td>\n",
       "      <td>51.230769</td>\n",
       "      <td>4.426154</td>\n",
       "    </tr>\n",
       "    <tr>\n",
       "      <th>std</th>\n",
       "      <td>18.82738</td>\n",
       "      <td>50.082860</td>\n",
       "      <td>22.110515</td>\n",
       "      <td>15.099669</td>\n",
       "      <td>39.797726</td>\n",
       "      <td>2.251028</td>\n",
       "    </tr>\n",
       "    <tr>\n",
       "      <th>min</th>\n",
       "      <td>4.60970</td>\n",
       "      <td>-150.000300</td>\n",
       "      <td>-1.880000</td>\n",
       "      <td>48.000000</td>\n",
       "      <td>0.000000</td>\n",
       "      <td>0.290000</td>\n",
       "    </tr>\n",
       "    <tr>\n",
       "      <th>25%</th>\n",
       "      <td>10.46740</td>\n",
       "      <td>-84.388000</td>\n",
       "      <td>36.450000</td>\n",
       "      <td>74.000000</td>\n",
       "      <td>20.000000</td>\n",
       "      <td>3.440000</td>\n",
       "    </tr>\n",
       "    <tr>\n",
       "      <th>50%</th>\n",
       "      <td>29.95470</td>\n",
       "      <td>-74.081700</td>\n",
       "      <td>52.210000</td>\n",
       "      <td>78.000000</td>\n",
       "      <td>40.000000</td>\n",
       "      <td>4.610000</td>\n",
       "    </tr>\n",
       "    <tr>\n",
       "      <th>75%</th>\n",
       "      <td>40.27240</td>\n",
       "      <td>-66.879200</td>\n",
       "      <td>72.340000</td>\n",
       "      <td>88.000000</td>\n",
       "      <td>90.000000</td>\n",
       "      <td>5.590000</td>\n",
       "    </tr>\n",
       "    <tr>\n",
       "      <th>max</th>\n",
       "      <td>64.00030</td>\n",
       "      <td>54.392800</td>\n",
       "      <td>77.000000</td>\n",
       "      <td>94.000000</td>\n",
       "      <td>100.000000</td>\n",
       "      <td>9.220000</td>\n",
       "    </tr>\n",
       "  </tbody>\n",
       "</table>\n",
       "</div>"
      ],
      "text/plain": [
       "            Lat         Lng       Temp   Humidity  Cloudiness  Wind Speed\n",
       "count  13.00000   13.000000  13.000000  13.000000   13.000000   13.000000\n",
       "mean   29.04250  -68.496577  51.351538  77.000000   51.230769    4.426154\n",
       "std    18.82738   50.082860  22.110515  15.099669   39.797726    2.251028\n",
       "min     4.60970 -150.000300  -1.880000  48.000000    0.000000    0.290000\n",
       "25%    10.46740  -84.388000  36.450000  74.000000   20.000000    3.440000\n",
       "50%    29.95470  -74.081700  52.210000  78.000000   40.000000    4.610000\n",
       "75%    40.27240  -66.879200  72.340000  88.000000   90.000000    5.590000\n",
       "max    64.00030   54.392800  77.000000  94.000000  100.000000    9.220000"
      ]
     },
     "execution_count": 73,
     "metadata": {},
     "output_type": "execute_result"
    }
   ],
   "source": [
    "Weather_cities_statistic = meteorology_cities.describe(percentiles=None, include=None, exclude=None, datetime_is_numeric=False)\n",
    "Weather_cities_statistic"
   ]
  },
  {
   "cell_type": "code",
   "execution_count": 74,
   "metadata": {},
   "outputs": [
    {
     "name": "stdout",
     "output_type": "stream",
     "text": [
      "Skip this step if there are no cities that have humidity > 100%.\n",
      "Int64Index([], dtype='int64')\n"
     ]
    }
   ],
   "source": [
    "#  Get the indices of cities that have humidity over 100%\n",
    "#city_Hum100 =  meteorology_cities.index[meteorology_cities['Humidity'] >= 100 ].tolist()\n",
    "city_Hum100 = meteorology_cities[(meteorology_cities['Humidity'] > 100)]\n",
    "a = 5\n",
    "b=10\n",
    "if len(city_Hum100) == 0:\n",
    "    clean_city_data = meteorology_cities.copy()\n",
    "    print(f\"Skip this step if there are no cities that have humidity > 100%.\")\n",
    "    print(city_Hum100.index)\n",
    "else:\n",
    "    clean_city_data = meteorology_cities[(meteorology_cities['Humidity'] < 100)]\n",
    "    clean_city_data_statistic = clean_city_data.describe(percentiles=None, include=None, exclude=None, datetime_is_numeric=False)\n",
    "    print(f\"Indices of cities that have humidity over 100%.: {city_Hum100.index}\")\n",
    "    print(f\"=========================================================================\")\n",
    "    print(f\"{clean_city_data_statistic}\")"
   ]
  },
  {
   "cell_type": "code",
   "execution_count": 75,
   "metadata": {},
   "outputs": [
    {
     "data": {
      "text/html": [
       "<div>\n",
       "<style scoped>\n",
       "    .dataframe tbody tr th:only-of-type {\n",
       "        vertical-align: middle;\n",
       "    }\n",
       "\n",
       "    .dataframe tbody tr th {\n",
       "        vertical-align: top;\n",
       "    }\n",
       "\n",
       "    .dataframe thead th {\n",
       "        text-align: right;\n",
       "    }\n",
       "</style>\n",
       "<table border=\"1\" class=\"dataframe\">\n",
       "  <thead>\n",
       "    <tr style=\"text-align: right;\">\n",
       "      <th></th>\n",
       "      <th>City</th>\n",
       "      <th>Lat</th>\n",
       "      <th>Lng</th>\n",
       "      <th>Temp</th>\n",
       "      <th>Humidity</th>\n",
       "      <th>Cloudiness</th>\n",
       "      <th>Wind Speed</th>\n",
       "      <th>Country</th>\n",
       "      <th>Date</th>\n",
       "    </tr>\n",
       "  </thead>\n",
       "  <tbody>\n",
       "    <tr>\n",
       "      <th>0</th>\n",
       "      <td>London</td>\n",
       "      <td>51.5085</td>\n",
       "      <td>-0.1257</td>\n",
       "      <td>46.02</td>\n",
       "      <td>87</td>\n",
       "      <td>90</td>\n",
       "      <td>3.44</td>\n",
       "      <td>GB</td>\n",
       "      <td>02/06/2021</td>\n",
       "    </tr>\n",
       "    <tr>\n",
       "      <th>1</th>\n",
       "      <td>Melbourne</td>\n",
       "      <td>28.0836</td>\n",
       "      <td>-80.6081</td>\n",
       "      <td>62.02</td>\n",
       "      <td>88</td>\n",
       "      <td>90</td>\n",
       "      <td>4.61</td>\n",
       "      <td>US</td>\n",
       "      <td>02/06/2021</td>\n",
       "    </tr>\n",
       "    <tr>\n",
       "      <th>2</th>\n",
       "      <td>Alaska</td>\n",
       "      <td>64.0003</td>\n",
       "      <td>-150.0003</td>\n",
       "      <td>-1.88</td>\n",
       "      <td>94</td>\n",
       "      <td>100</td>\n",
       "      <td>0.98</td>\n",
       "      <td>US</td>\n",
       "      <td>02/06/2021</td>\n",
       "    </tr>\n",
       "    <tr>\n",
       "      <th>3</th>\n",
       "      <td>Jazan</td>\n",
       "      <td>36.2105</td>\n",
       "      <td>54.3928</td>\n",
       "      <td>50.29</td>\n",
       "      <td>65</td>\n",
       "      <td>100</td>\n",
       "      <td>5.91</td>\n",
       "      <td>IR</td>\n",
       "      <td>02/06/2021</td>\n",
       "    </tr>\n",
       "    <tr>\n",
       "      <th>4</th>\n",
       "      <td>Caracas</td>\n",
       "      <td>10.4880</td>\n",
       "      <td>-66.8792</td>\n",
       "      <td>72.34</td>\n",
       "      <td>74</td>\n",
       "      <td>20</td>\n",
       "      <td>3.65</td>\n",
       "      <td>VE</td>\n",
       "      <td>02/06/2021</td>\n",
       "    </tr>\n",
       "    <tr>\n",
       "      <th>5</th>\n",
       "      <td>El Junquito</td>\n",
       "      <td>10.4614</td>\n",
       "      <td>-67.0806</td>\n",
       "      <td>73.45</td>\n",
       "      <td>74</td>\n",
       "      <td>20</td>\n",
       "      <td>3.38</td>\n",
       "      <td>VE</td>\n",
       "      <td>02/06/2021</td>\n",
       "    </tr>\n",
       "    <tr>\n",
       "      <th>6</th>\n",
       "      <td>New Orleans</td>\n",
       "      <td>29.9547</td>\n",
       "      <td>-90.0751</td>\n",
       "      <td>52.21</td>\n",
       "      <td>93</td>\n",
       "      <td>90</td>\n",
       "      <td>9.22</td>\n",
       "      <td>US</td>\n",
       "      <td>02/06/2021</td>\n",
       "    </tr>\n",
       "    <tr>\n",
       "      <th>7</th>\n",
       "      <td>Maracay</td>\n",
       "      <td>10.2469</td>\n",
       "      <td>-67.5958</td>\n",
       "      <td>77.00</td>\n",
       "      <td>78</td>\n",
       "      <td>20</td>\n",
       "      <td>0.29</td>\n",
       "      <td>VE</td>\n",
       "      <td>02/06/2021</td>\n",
       "    </tr>\n",
       "    <tr>\n",
       "      <th>8</th>\n",
       "      <td>Washington</td>\n",
       "      <td>47.5001</td>\n",
       "      <td>-120.5015</td>\n",
       "      <td>36.45</td>\n",
       "      <td>51</td>\n",
       "      <td>0</td>\n",
       "      <td>5.01</td>\n",
       "      <td>US</td>\n",
       "      <td>02/06/2021</td>\n",
       "    </tr>\n",
       "    <tr>\n",
       "      <th>9</th>\n",
       "      <td>Pennsylvania</td>\n",
       "      <td>40.2724</td>\n",
       "      <td>-76.9057</td>\n",
       "      <td>33.03</td>\n",
       "      <td>48</td>\n",
       "      <td>1</td>\n",
       "      <td>4.61</td>\n",
       "      <td>US</td>\n",
       "      <td>02/06/2021</td>\n",
       "    </tr>\n",
       "    <tr>\n",
       "      <th>10</th>\n",
       "      <td>Guarenas</td>\n",
       "      <td>10.4674</td>\n",
       "      <td>-66.6066</td>\n",
       "      <td>73.26</td>\n",
       "      <td>74</td>\n",
       "      <td>20</td>\n",
       "      <td>5.10</td>\n",
       "      <td>VE</td>\n",
       "      <td>02/06/2021</td>\n",
       "    </tr>\n",
       "    <tr>\n",
       "      <th>11</th>\n",
       "      <td>Atlanta</td>\n",
       "      <td>33.7490</td>\n",
       "      <td>-84.3880</td>\n",
       "      <td>36.18</td>\n",
       "      <td>93</td>\n",
       "      <td>40</td>\n",
       "      <td>5.59</td>\n",
       "      <td>US</td>\n",
       "      <td>02/06/2021</td>\n",
       "    </tr>\n",
       "    <tr>\n",
       "      <th>12</th>\n",
       "      <td>Bogotá</td>\n",
       "      <td>4.6097</td>\n",
       "      <td>-74.0817</td>\n",
       "      <td>57.20</td>\n",
       "      <td>82</td>\n",
       "      <td>75</td>\n",
       "      <td>5.75</td>\n",
       "      <td>CO</td>\n",
       "      <td>02/06/2021</td>\n",
       "    </tr>\n",
       "  </tbody>\n",
       "</table>\n",
       "</div>"
      ],
      "text/plain": [
       "            City      Lat       Lng   Temp  Humidity  Cloudiness  Wind Speed  \\\n",
       "0         London  51.5085   -0.1257  46.02        87          90        3.44   \n",
       "1      Melbourne  28.0836  -80.6081  62.02        88          90        4.61   \n",
       "2         Alaska  64.0003 -150.0003  -1.88        94         100        0.98   \n",
       "3          Jazan  36.2105   54.3928  50.29        65         100        5.91   \n",
       "4        Caracas  10.4880  -66.8792  72.34        74          20        3.65   \n",
       "5    El Junquito  10.4614  -67.0806  73.45        74          20        3.38   \n",
       "6    New Orleans  29.9547  -90.0751  52.21        93          90        9.22   \n",
       "7        Maracay  10.2469  -67.5958  77.00        78          20        0.29   \n",
       "8     Washington  47.5001 -120.5015  36.45        51           0        5.01   \n",
       "9   Pennsylvania  40.2724  -76.9057  33.03        48           1        4.61   \n",
       "10      Guarenas  10.4674  -66.6066  73.26        74          20        5.10   \n",
       "11       Atlanta  33.7490  -84.3880  36.18        93          40        5.59   \n",
       "12        Bogotá   4.6097  -74.0817  57.20        82          75        5.75   \n",
       "\n",
       "   Country        Date  \n",
       "0       GB  02/06/2021  \n",
       "1       US  02/06/2021  \n",
       "2       US  02/06/2021  \n",
       "3       IR  02/06/2021  \n",
       "4       VE  02/06/2021  \n",
       "5       VE  02/06/2021  \n",
       "6       US  02/06/2021  \n",
       "7       VE  02/06/2021  \n",
       "8       US  02/06/2021  \n",
       "9       US  02/06/2021  \n",
       "10      VE  02/06/2021  \n",
       "11      US  02/06/2021  \n",
       "12      CO  02/06/2021  "
      ]
     },
     "execution_count": 75,
     "metadata": {},
     "output_type": "execute_result"
    }
   ],
   "source": [
    "#which we call \"clean_city_data\"\n",
    "clean_city_data"
   ]
  },
  {
   "cell_type": "code",
   "execution_count": null,
   "metadata": {},
   "outputs": [],
   "source": []
  },
  {
   "cell_type": "markdown",
   "metadata": {},
   "source": [
    "## Plotting the Data\n",
    "* Use proper labeling of the plots using plot titles (including date of analysis) and axes labels.\n",
    "* Save the plotted figures as .pngs."
   ]
  },
  {
   "cell_type": "markdown",
   "metadata": {},
   "source": [
    "## Latitude vs. Temperature Plot"
   ]
  },
  {
   "cell_type": "code",
   "execution_count": 79,
   "metadata": {},
   "outputs": [
    {
     "data": {
      "image/png": "[encoded data removed]",
      "text/plain": [
       "<Figure size 576x396 with 2 Axes>"
      ]
     },
     "metadata": {},
     "output_type": "display_data"
    }
   ],
   "source": [
    "#Use proper labeling of the plots using plot titles (including date of analysis) and axes labels.\n",
    "date = clean_city_data['Date'].max()\n",
    "plt.style.use('seaborn')\n",
    "x = clean_city_data['Lat']\n",
    "y = clean_city_data['Temp']\n",
    "plt.scatter(x,y, s=100, c='blue', edgecolor='black', linewidth=1, alpha=0.75);\n",
    "plt.title(f\"Latitude of Cities vs. Temperature | {date}\", fontsize = \"12\")\n",
    "plt.xlabel(f\"Latitude\", fontsize=\"14\")\n",
    "plt.ylabel(f\"Max Temperature (F)\", fontsize=\"14\")\n",
    "cbar= plt.colorbar()\n",
    "cbar.set_label('Latitud vs max Temperature')"
   ]
  },
  {
   "cell_type": "code",
   "execution_count": null,
   "metadata": {
    "scrolled": true
   },
   "outputs": [],
   "source": []
  },
  {
   "cell_type": "markdown",
   "metadata": {},
   "source": [
    "## Latitude vs. Humidity Plot"
   ]
  },
  {
   "cell_type": "code",
   "execution_count": 80,
   "metadata": {},
   "outputs": [
    {
     "data": {
      "image/png": "[encoded data removed]",
      "text/plain": [
       "<Figure size 576x396 with 2 Axes>"
      ]
     },
     "metadata": {},
     "output_type": "display_data"
    }
   ],
   "source": [
    "date = clean_city_data['Date'].max()\n",
    "plt.style.use('seaborn')\n",
    "x = clean_city_data['Lat']\n",
    "y = clean_city_data['Humidity']\n",
    "plt.scatter(x,y, s=100, c='blue', edgecolor='black', linewidth=1, alpha=0.75);\n",
    "plt.title(f\"Latitude of cities vs Humidity | {date}\", fontsize = \"12\")\n",
    "plt.xlabel(f\"Latitude\", fontsize=\"14\")\n",
    "plt.ylabel(f\"Humidity\", fontsize=\"14\")\n",
    "cbar= plt.colorbar()\n",
    "cbar.set_label('Latitud vs Humidity')"
   ]
  },
  {
   "cell_type": "markdown",
   "metadata": {},
   "source": [
    "## Latitude vs. Cloudiness Plot"
   ]
  },
  {
   "cell_type": "code",
   "execution_count": 81,
   "metadata": {},
   "outputs": [
    {
     "data": {
      "image/png": "[encoded data removed]",
      "text/plain": [
       "<Figure size 576x396 with 2 Axes>"
      ]
     },
     "metadata": {},
     "output_type": "display_data"
    }
   ],
   "source": [
    "date = clean_city_data['Date'].max()\n",
    "plt.style.use('seaborn')\n",
    "x = clean_city_data['Lat']\n",
    "y = clean_city_data['Cloudiness']\n",
    "plt.scatter(x,y, s=100, c='blue', edgecolor='black', linewidth=1, alpha=0.75);\n",
    "plt.title(f\"Latitude of cities vs Cloudiness | {date}\", fontsize = \"12\")\n",
    "plt.xlabel(f\"Latitude\", fontsize=\"14\")\n",
    "plt.ylabel(f\"Cloudiness\", fontsize=\"14\")\n",
    "cbar= plt.colorbar()\n",
    "cbar.set_label('Latitud vs Cloudiness')"
   ]
  },
  {
   "cell_type": "markdown",
   "metadata": {},
   "source": [
    "## Latitude vs. Wind Speed Plot"
   ]
  },
  {
   "cell_type": "code",
   "execution_count": 84,
   "metadata": {},
   "outputs": [
    {
     "data": {
      "image/png": "[encoded data removed]",
      "text/plain": [
       "<Figure size 576x396 with 2 Axes>"
      ]
     },
     "metadata": {},
     "output_type": "display_data"
    }
   ],
   "source": [
    "date = clean_city_data['Date'].max()\n",
    "plt.style.use('seaborn')\n",
    "x = clean_city_data['Lat']\n",
    "y = clean_city_data['Wind Speed']\n",
    "plt.scatter(x,y, s=100, c='blue', edgecolor='black', linewidth=1, alpha=0.75);\n",
    "plt.title(f\"Latitude of cities vs Wind Speed (miles/hour) | {date}\", fontsize = \"12\")\n",
    "plt.xlabel(f\"Latitude\", fontsize=\"14\")\n",
    "plt.ylabel(f\"Wind Speed (miles/hour)\", fontsize=\"14\")\n",
    "cbar= plt.colorbar()\n",
    "cbar.set_label('Latitud vs Wind Speed (miles/hour)')"
   ]
  },
  {
   "cell_type": "markdown",
   "metadata": {},
   "source": [
    "## Linear Regression"
   ]
  },
  {
   "cell_type": "code",
   "execution_count": 91,
   "metadata": {},
   "outputs": [
    {
     "name": "stdout",
     "output_type": "stream",
     "text": [
      "the intercept :4.72\n",
      "Lat linear regression model :y = -0.01x + 4.72\n"
     ]
    }
   ],
   "source": [
    "#Latitude Linear Regression\n",
    "(slope, intercept, rvalue, pvalue, stderr) = linregress(x, y)\n",
    "print(f\"the intercept :{round(intercept,2)}\");\n",
    "regress_values = x * slope + intercept\n",
    "line_eq = \"y = \" + str(round(slope,2)) + \"x + \" + str(round(intercept,2))\n",
    "print(f\"Lat linear regression model :{line_eq}\");\n",
    "#plt.scatter(X,Y, s=100, c=\"#000023\", alpha=0.9, linewidths=1, edgecolors=\"black\", sizes=sizes, cmap=\"viridis\")\n",
    "#plt.plot(x,regress_values,\"r-\");\n"
   ]
  },
  {
   "cell_type": "markdown",
   "metadata": {},
   "source": [
    "####  Northern Hemisphere - Max Temp vs. Latitude Linear Regression"
   ]
  },
  {
   "cell_type": "code",
   "execution_count": null,
   "metadata": {},
   "outputs": [],
   "source": [
    "# Northern Hemisphere = Latitude between 0 ° and 90 °: Northern Hemisphere\n"
   ]
  },
  {
   "cell_type": "markdown",
   "metadata": {},
   "source": [
    "####  Southern Hemisphere - Max Temp vs. Latitude Linear Regression"
   ]
  },
  {
   "cell_type": "code",
   "execution_count": null,
   "metadata": {},
   "outputs": [],
   "source": []
  },
  {
   "cell_type": "markdown",
   "metadata": {},
   "source": [
    "####  Northern Hemisphere - Humidity (%) vs. Latitude Linear Regression"
   ]
  },
  {
   "cell_type": "code",
   "execution_count": null,
   "metadata": {},
   "outputs": [],
   "source": []
  },
  {
   "cell_type": "markdown",
   "metadata": {},
   "source": [
    "####  Southern Hemisphere - Humidity (%) vs. Latitude Linear Regression"
   ]
  },
  {
   "cell_type": "code",
   "execution_count": null,
   "metadata": {},
   "outputs": [],
   "source": [
    "# Southern Hemisphere = Latitude between 0 ° and -90 °: Southern Hemisphere"
   ]
  },
  {
   "cell_type": "markdown",
   "metadata": {},
   "source": [
    "####  Northern Hemisphere - Cloudiness (%) vs. Latitude Linear Regression"
   ]
  },
  {
   "cell_type": "code",
   "execution_count": null,
   "metadata": {},
   "outputs": [],
   "source": []
  },
  {
   "cell_type": "markdown",
   "metadata": {},
   "source": [
    "####  Southern Hemisphere - Cloudiness (%) vs. Latitude Linear Regression"
   ]
  },
  {
   "cell_type": "code",
   "execution_count": null,
   "metadata": {},
   "outputs": [],
   "source": []
  },
  {
   "cell_type": "markdown",
   "metadata": {},
   "source": [
    "####  Northern Hemisphere - Wind Speed (mph) vs. Latitude Linear Regression"
   ]
  },
  {
   "cell_type": "code",
   "execution_count": null,
   "metadata": {},
   "outputs": [],
   "source": []
  },
  {
   "cell_type": "markdown",
   "metadata": {},
   "source": [
    "####  Southern Hemisphere - Wind Speed (mph) vs. Latitude Linear Regression"
   ]
  },
  {
   "cell_type": "code",
   "execution_count": null,
   "metadata": {},
   "outputs": [],
   "source": []
  },
  {
   "cell_type": "code",
   "execution_count": null,
   "metadata": {},
   "outputs": [],
   "source": []
  }
 ],
 "metadata": {
  "anaconda-cloud": {},
  "kernel_info": {
   "name": "python3"
  },
  "kernelspec": {
   "display_name": "Python 3",
   "language": "python",
   "name": "python3"
  },
  "language_info": {
   "codemirror_mode": {
    "name": "ipython",
    "version": 3
   },
   "file_extension": ".py",
   "mimetype": "text/x-python",
   "name": "python",
   "nbconvert_exporter": "python",
   "pygments_lexer": "ipython3",
   "version": "3.8.5"
  },
  "latex_envs": {
   "LaTeX_envs_menu_present": true,
   "autoclose": false,
   "autocomplete": true,
   "bibliofile": "biblio.bib",
   "cite_by": "apalike",
   "current_citInitial": 1,
   "eqLabelWithNumbers": true,
   "eqNumInitial": 1,
   "hotkeys": {
    "equation": "Ctrl-E",
    "itemize": "Ctrl-I"
   },
   "labels_anchors": false,
   "latex_user_defs": false,
   "report_style_numbering": false,
   "user_envs_cfg": false
  },
  "nteract": {
   "version": "0.12.3"
  }
 },
 "nbformat": 4,
 "nbformat_minor": 2
}
