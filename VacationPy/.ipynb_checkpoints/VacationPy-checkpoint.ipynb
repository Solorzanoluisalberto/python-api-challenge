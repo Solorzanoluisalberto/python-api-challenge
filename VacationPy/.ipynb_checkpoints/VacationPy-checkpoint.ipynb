{
 "cells": [
  {
   "cell_type": "markdown",
   "metadata": {},
   "source": [
    "# VacationPy\n",
    "----\n",
    "\n",
    "#### Note\n",
    "* Keep an eye on your API usage. Use https://developers.google.com/maps/reporting/gmp-reporting as reference for how to monitor your usage and billing.\n",
    "\n",
    "* Instructions have been included for each segment. You do not have to follow them exactly, but they are included to help you think through the steps."
   ]
  },
  {
   "cell_type": "code",
   "execution_count": 1,
   "metadata": {},
   "outputs": [],
   "source": [
    "# Dependencies and Setup\n",
    "import matplotlib.pyplot as plt\n",
    "import pandas as pd\n",
    "import numpy as np\n",
    "import requests\n",
    "import gmaps\n",
    "import os\n",
    "\n",
    "# Import API key\n",
    "from api_keys import g_key"
   ]
  },
  {
   "cell_type": "code",
   "execution_count": 2,
   "metadata": {},
   "outputs": [],
   "source": [
    "#print(g_key)"
   ]
  },
  {
   "cell_type": "markdown",
   "metadata": {},
   "source": [
    "### Store Part I results into DataFrame\n",
    "* Load the csv exported in Part I to a DataFrame"
   ]
  },
  {
   "cell_type": "code",
   "execution_count": 3,
   "metadata": {},
   "outputs": [],
   "source": [
    "# Load the csv exported in Part I to a DataFrame\n",
    "# meteorology_of_cities.csv\n",
    "weather_cities = \"../WeatherPy/output_data/meteorology_of_cities.csv\"\n",
    "Cities = pd.read_csv(weather_cities)\n",
    "#cities_example = Cities.head(20)\n"
   ]
  },
  {
   "cell_type": "code",
   "execution_count": 4,
   "metadata": {},
   "outputs": [
    {
     "data": {
      "text/html": [
       "<div>\n",
       "<style scoped>\n",
       "    .dataframe tbody tr th:only-of-type {\n",
       "        vertical-align: middle;\n",
       "    }\n",
       "\n",
       "    .dataframe tbody tr th {\n",
       "        vertical-align: top;\n",
       "    }\n",
       "\n",
       "    .dataframe thead th {\n",
       "        text-align: right;\n",
       "    }\n",
       "</style>\n",
       "<table border=\"1\" class=\"dataframe\">\n",
       "  <thead>\n",
       "    <tr style=\"text-align: right;\">\n",
       "      <th></th>\n",
       "      <th>City</th>\n",
       "      <th>Lat</th>\n",
       "      <th>Lng</th>\n",
       "      <th>Temp</th>\n",
       "      <th>Humidity</th>\n",
       "      <th>Cloudiness</th>\n",
       "      <th>Wind Speed</th>\n",
       "      <th>Country</th>\n",
       "      <th>Date</th>\n",
       "    </tr>\n",
       "  </thead>\n",
       "  <tbody>\n",
       "    <tr>\n",
       "      <th>0</th>\n",
       "      <td>Mar del Plata</td>\n",
       "      <td>-38.0023</td>\n",
       "      <td>-57.5575</td>\n",
       "      <td>63.16</td>\n",
       "      <td>82</td>\n",
       "      <td>40</td>\n",
       "      <td>8.05</td>\n",
       "      <td>AR</td>\n",
       "      <td>02/06/2021</td>\n",
       "    </tr>\n",
       "    <tr>\n",
       "      <th>1</th>\n",
       "      <td>Ushuaia</td>\n",
       "      <td>-54.8000</td>\n",
       "      <td>-68.3000</td>\n",
       "      <td>48.20</td>\n",
       "      <td>76</td>\n",
       "      <td>75</td>\n",
       "      <td>12.66</td>\n",
       "      <td>AR</td>\n",
       "      <td>02/06/2021</td>\n",
       "    </tr>\n",
       "    <tr>\n",
       "      <th>2</th>\n",
       "      <td>Butaritari</td>\n",
       "      <td>3.0707</td>\n",
       "      <td>172.7902</td>\n",
       "      <td>80.92</td>\n",
       "      <td>80</td>\n",
       "      <td>60</td>\n",
       "      <td>21.21</td>\n",
       "      <td>KI</td>\n",
       "      <td>02/06/2021</td>\n",
       "    </tr>\n",
       "    <tr>\n",
       "      <th>3</th>\n",
       "      <td>Rikitea</td>\n",
       "      <td>-23.1203</td>\n",
       "      <td>-134.9692</td>\n",
       "      <td>78.42</td>\n",
       "      <td>71</td>\n",
       "      <td>87</td>\n",
       "      <td>10.58</td>\n",
       "      <td>PF</td>\n",
       "      <td>02/06/2021</td>\n",
       "    </tr>\n",
       "    <tr>\n",
       "      <th>4</th>\n",
       "      <td>Bluff</td>\n",
       "      <td>-46.6000</td>\n",
       "      <td>168.3333</td>\n",
       "      <td>61.09</td>\n",
       "      <td>77</td>\n",
       "      <td>0</td>\n",
       "      <td>11.18</td>\n",
       "      <td>NZ</td>\n",
       "      <td>02/06/2021</td>\n",
       "    </tr>\n",
       "  </tbody>\n",
       "</table>\n",
       "</div>"
      ],
      "text/plain": [
       "            City      Lat       Lng   Temp  Humidity  Cloudiness  Wind Speed  \\\n",
       "0  Mar del Plata -38.0023  -57.5575  63.16        82          40        8.05   \n",
       "1        Ushuaia -54.8000  -68.3000  48.20        76          75       12.66   \n",
       "2     Butaritari   3.0707  172.7902  80.92        80          60       21.21   \n",
       "3        Rikitea -23.1203 -134.9692  78.42        71          87       10.58   \n",
       "4          Bluff -46.6000  168.3333  61.09        77           0       11.18   \n",
       "\n",
       "  Country        Date  \n",
       "0      AR  02/06/2021  \n",
       "1      AR  02/06/2021  \n",
       "2      KI  02/06/2021  \n",
       "3      PF  02/06/2021  \n",
       "4      NZ  02/06/2021  "
      ]
     },
     "execution_count": 4,
     "metadata": {},
     "output_type": "execute_result"
    }
   ],
   "source": [
    " Cities.head()#cities_example"
   ]
  },
  {
   "cell_type": "markdown",
   "metadata": {},
   "source": [
    "### Humidity Heatmap\n",
    "* Configure gmaps.\n",
    "* Use the Lat and Lng as locations and Humidity as the weight.\n",
    "* Add Heatmap layer to map."
   ]
  },
  {
   "cell_type": "code",
   "execution_count": 5,
   "metadata": {},
   "outputs": [],
   "source": [
    "# Configure gmaps\n",
    "gmaps.configure(api_key=g_key)"
   ]
  },
  {
   "cell_type": "code",
   "execution_count": 35,
   "metadata": {},
   "outputs": [
    {
     "data": {
      "application/vnd.jupyter.widget-view+json": {
       "model_id": "7016c90371be4b47b0dfb8ac50846436",
       "version_major": 2,
       "version_minor": 0
      },
      "text/plain": [
       "Figure(layout=FigureLayout(height='420px'))"
      ]
     },
     "metadata": {},
     "output_type": "display_data"
    }
   ],
   "source": [
    "# Use the Lat and Lng as locations and Humidity as the weight.\n",
    "#data = [cities_example[\"City\"],cities_example[\"Lat\"],cities_example[\"Lng\"]]\n",
    "#headers = [\"City\", \"Lat\", \"Lng\"]\n",
    "#marker_locations = pd.concat(data, axis=1, keys=headers)\n",
    "Humidity_weight = Cities[\"Humidity\"].to_list()    #cities_example[\"Humidity\"].to_list()\n",
    "locations = Cities[['Lat', 'Lng']] #cities_example[['Lat', 'Lng']]\n",
    "#gmaps.figure(display_toolbar=True, display_errors=True, zoom_level=None, tilt=45, center=None, \n",
    "#layout=None, map_type='ROADMAP', mouse_handling='COOPERATIVE')\n",
    "# Create a Humidity Heatmap layer\n",
    "fig = gmaps.figure(center=(20.0, 30.0), zoom_level=2)\n",
    "heat_layer = gmaps.heatmap_layer(locations, weights=Humidity_weight, \n",
    "                                 dissipating=False, max_intensity=100,\n",
    "                                 point_radius = 2)\n",
    "fig.add_layer(heat_layer)\n",
    "fig"
   ]
  },
  {
   "cell_type": "markdown",
   "metadata": {},
   "source": [
    "### Create new DataFrame fitting weather criteria\n",
    "* Narrow down the cities to fit weather conditions.\n",
    "* Drop any rows will null values."
   ]
  },
  {
   "cell_type": "code",
   "execution_count": 52,
   "metadata": {},
   "outputs": [
    {
     "data": {
      "text/html": [
       "<div>\n",
       "<style scoped>\n",
       "    .dataframe tbody tr th:only-of-type {\n",
       "        vertical-align: middle;\n",
       "    }\n",
       "\n",
       "    .dataframe tbody tr th {\n",
       "        vertical-align: top;\n",
       "    }\n",
       "\n",
       "    .dataframe thead th {\n",
       "        text-align: right;\n",
       "    }\n",
       "</style>\n",
       "<table border=\"1\" class=\"dataframe\">\n",
       "  <thead>\n",
       "    <tr style=\"text-align: right;\">\n",
       "      <th></th>\n",
       "      <th>City</th>\n",
       "      <th>Lat</th>\n",
       "      <th>Lng</th>\n",
       "      <th>Temp</th>\n",
       "      <th>Humidity</th>\n",
       "      <th>Cloudiness</th>\n",
       "      <th>Wind Speed</th>\n",
       "      <th>Country</th>\n",
       "      <th>Date</th>\n",
       "    </tr>\n",
       "  </thead>\n",
       "  <tbody>\n",
       "    <tr>\n",
       "      <th>24</th>\n",
       "      <td>Saint-Philippe</td>\n",
       "      <td>-21.3585</td>\n",
       "      <td>55.7679</td>\n",
       "      <td>77.36</td>\n",
       "      <td>69</td>\n",
       "      <td>0</td>\n",
       "      <td>4.61</td>\n",
       "      <td>RE</td>\n",
       "      <td>02/06/2021</td>\n",
       "    </tr>\n",
       "    <tr>\n",
       "      <th>41</th>\n",
       "      <td>Balasore</td>\n",
       "      <td>21.4942</td>\n",
       "      <td>86.9317</td>\n",
       "      <td>72.41</td>\n",
       "      <td>48</td>\n",
       "      <td>0</td>\n",
       "      <td>5.99</td>\n",
       "      <td>IN</td>\n",
       "      <td>02/06/2021</td>\n",
       "    </tr>\n",
       "    <tr>\n",
       "      <th>47</th>\n",
       "      <td>Khedbrahma</td>\n",
       "      <td>24.0333</td>\n",
       "      <td>73.0500</td>\n",
       "      <td>71.38</td>\n",
       "      <td>22</td>\n",
       "      <td>0</td>\n",
       "      <td>8.50</td>\n",
       "      <td>IN</td>\n",
       "      <td>02/06/2021</td>\n",
       "    </tr>\n",
       "    <tr>\n",
       "      <th>62</th>\n",
       "      <td>Guatajiagua</td>\n",
       "      <td>13.6667</td>\n",
       "      <td>-88.2000</td>\n",
       "      <td>71.38</td>\n",
       "      <td>78</td>\n",
       "      <td>0</td>\n",
       "      <td>1.52</td>\n",
       "      <td>SV</td>\n",
       "      <td>02/06/2021</td>\n",
       "    </tr>\n",
       "    <tr>\n",
       "      <th>158</th>\n",
       "      <td>Hong Kong</td>\n",
       "      <td>22.2855</td>\n",
       "      <td>114.1577</td>\n",
       "      <td>70.38</td>\n",
       "      <td>62</td>\n",
       "      <td>0</td>\n",
       "      <td>3.00</td>\n",
       "      <td>HK</td>\n",
       "      <td>02/06/2021</td>\n",
       "    </tr>\n",
       "  </tbody>\n",
       "</table>\n",
       "</div>"
      ],
      "text/plain": [
       "               City      Lat       Lng   Temp  Humidity  Cloudiness  \\\n",
       "24   Saint-Philippe -21.3585   55.7679  77.36        69           0   \n",
       "41         Balasore  21.4942   86.9317  72.41        48           0   \n",
       "47       Khedbrahma  24.0333   73.0500  71.38        22           0   \n",
       "62      Guatajiagua  13.6667  -88.2000  71.38        78           0   \n",
       "158       Hong Kong  22.2855  114.1577  70.38        62           0   \n",
       "\n",
       "     Wind Speed Country        Date  \n",
       "24         4.61      RE  02/06/2021  \n",
       "41         5.99      IN  02/06/2021  \n",
       "47         8.50      IN  02/06/2021  \n",
       "62         1.52      SV  02/06/2021  \n",
       "158        3.00      HK  02/06/2021  "
      ]
     },
     "execution_count": 52,
     "metadata": {},
     "output_type": "execute_result"
    }
   ],
   "source": [
    "# Narrow down the cities to fit weather conditions: (80 >  max temp °F > 70) and (Wind speed < 10 mph.) and (cloudiness = 0)\n",
    "# Drop any rows will null values.\n",
    "New_Cities = Cities[(Cities['Cloudiness']==0)&((Cities['Temp']>70)&(Cities['Temp']<80))&(Cities['Wind Speed']<10)]\n",
    "New_Cities.head()"
   ]
  },
  {
   "cell_type": "markdown",
   "metadata": {},
   "source": [
    "### Hotel Map\n",
    "* Store into variable named `hotel_df`.\n",
    "* Add a \"Hotel Name\" column to the DataFrame.\n",
    "* Set parameters to search for hotels with 5000 meters.\n",
    "* Hit the Google Places API for each city's coordinates.\n",
    "* Store the first Hotel result into the DataFrame.\n",
    "* Plot markers on top of the heatmap."
   ]
  },
  {
   "cell_type": "code",
   "execution_count": null,
   "metadata": {},
   "outputs": [],
   "source": []
  },
  {
   "cell_type": "code",
   "execution_count": null,
   "metadata": {},
   "outputs": [],
   "source": []
  },
  {
   "cell_type": "code",
   "execution_count": null,
   "metadata": {},
   "outputs": [],
   "source": [
    "# NOTE: Do not change any of the code in this cell\n",
    "\n",
    "# Using the template add the hotel marks to the heatmap\n",
    "info_box_template = \"\"\"\n",
    "<dl>\n",
    "<dt>Name</dt><dd>{Hotel Name}</dd>\n",
    "<dt>City</dt><dd>{City}</dd>\n",
    "<dt>Country</dt><dd>{Country}</dd>\n",
    "</dl>\n",
    "\"\"\"\n",
    "# Store the DataFrame Row\n",
    "# NOTE: be sure to update with your DataFrame name\n",
    "hotel_info = [info_box_template.format(**row) for index, row in hotel_df.iterrows()]\n",
    "locations = hotel_df[[\"Lat\", \"Lng\"]]"
   ]
  },
  {
   "cell_type": "code",
   "execution_count": null,
   "metadata": {},
   "outputs": [],
   "source": [
    "# Add marker layer ontop of heat map\n",
    "\n",
    "\n",
    "# Display figure\n"
   ]
  },
  {
   "cell_type": "code",
   "execution_count": null,
   "metadata": {},
   "outputs": [],
   "source": []
  }
 ],
 "metadata": {
  "kernelspec": {
   "display_name": "Python 3",
   "language": "python",
   "name": "python3"
  },
  "language_info": {
   "codemirror_mode": {
    "name": "ipython",
    "version": 3
   },
   "file_extension": ".py",
   "mimetype": "text/x-python",
   "name": "python",
   "nbconvert_exporter": "python",
   "pygments_lexer": "ipython3",
   "version": "3.8.5"
  },
  "latex_envs": {
   "LaTeX_envs_menu_present": true,
   "autoclose": false,
   "autocomplete": true,
   "bibliofile": "biblio.bib",
   "cite_by": "apalike",
   "current_citInitial": 1,
   "eqLabelWithNumbers": true,
   "eqNumInitial": 1,
   "hotkeys": {
    "equation": "Ctrl-E",
    "itemize": "Ctrl-I"
   },
   "labels_anchors": false,
   "latex_user_defs": false,
   "report_style_numbering": false,
   "user_envs_cfg": false
  }
 },
 "nbformat": 4,
 "nbformat_minor": 4
}
